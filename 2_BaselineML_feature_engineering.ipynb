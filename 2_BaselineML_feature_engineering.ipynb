{
 "cells": [
  {
   "cell_type": "code",
   "execution_count": 1,
   "id": "initial_id",
   "metadata": {
    "collapsed": true,
    "ExecuteTime": {
     "end_time": "2024-07-05T12:30:20.146405Z",
     "start_time": "2024-07-05T12:30:18.710585Z"
    }
   },
   "outputs": [],
   "source": [
    "# import dependencies\n",
    "import pandas as pd\n",
    "import numpy as np\n",
    "import matplotlib.pyplot as plt"
   ]
  },
  {
   "cell_type": "markdown",
   "source": [
    "## Load data"
   ],
   "metadata": {
    "collapsed": false
   },
   "id": "5b31f10cb36ba652"
  },
  {
   "cell_type": "code",
   "outputs": [],
   "source": [
    "# define data path\n",
    "data_path = 'ISIC2024_data/'"
   ],
   "metadata": {
    "collapsed": false,
    "ExecuteTime": {
     "end_time": "2024-07-05T13:31:21.521305Z",
     "start_time": "2024-07-05T13:31:21.516557Z"
    }
   },
   "id": "668f23307a6ce8fa",
   "execution_count": 62
  },
  {
   "cell_type": "code",
   "outputs": [],
   "source": [
    "path_train_meta = data_path + 'train-metadata.csv'\n",
    "path_test_meta = data_path + 'test-metadata.csv'"
   ],
   "metadata": {
    "collapsed": false,
    "ExecuteTime": {
     "end_time": "2024-07-05T13:31:22.080765Z",
     "start_time": "2024-07-05T13:31:22.075722Z"
    }
   },
   "id": "2d763f55613dbadc",
   "execution_count": 63
  },
  {
   "cell_type": "code",
   "outputs": [
    {
     "name": "stderr",
     "output_type": "stream",
     "text": [
      "C:\\Users\\26236\\AppData\\Local\\Temp\\ipykernel_9728\\1027463437.py:2: DtypeWarning: Columns (51,52) have mixed types. Specify dtype option on import or set low_memory=False.\n",
      "  df_train_meta = pd.read_csv(path_train_meta)\n"
     ]
    }
   ],
   "source": [
    "# load the csv as pandas dataframe\n",
    "df_train_meta = pd.read_csv(path_train_meta)\n",
    "df_test_meta = pd.read_csv(path_test_meta)"
   ],
   "metadata": {
    "collapsed": false,
    "ExecuteTime": {
     "end_time": "2024-07-05T13:31:29.607804Z",
     "start_time": "2024-07-05T13:31:22.814185Z"
    }
   },
   "id": "3ba8d758a0fe6d82",
   "execution_count": 64
  },
  {
   "cell_type": "code",
   "outputs": [
    {
     "name": "stdout",
     "output_type": "stream",
     "text": [
      "tbp_lv_deltaA\n",
      "isic_id\n",
      "tbp_lv_z\n",
      "age_approx\n",
      "tbp_tile_type\n",
      "tbp_lv_y\n",
      "image_type\n",
      "attribution\n",
      "anatom_site_general\n",
      "tbp_lv_areaMM2\n",
      "tbp_lv_color_std_mean\n",
      "tbp_lv_H\n",
      "tbp_lv_deltaLB\n",
      "tbp_lv_area_perim_ratio\n",
      "clin_size_long_diam_mm\n",
      "tbp_lv_symm_2axis\n",
      "tbp_lv_L\n",
      "tbp_lv_eccentricity\n",
      "tbp_lv_deltaLBnorm\n",
      "tbp_lv_Bext\n",
      "tbp_lv_location_simple\n",
      "tbp_lv_minorAxisMM\n",
      "tbp_lv_Aext\n",
      "tbp_lv_perimeterMM\n",
      "tbp_lv_Cext\n",
      "tbp_lv_x\n",
      "tbp_lv_norm_color\n",
      "tbp_lv_deltaB\n",
      "sex\n",
      "tbp_lv_deltaL\n",
      "tbp_lv_B\n",
      "tbp_lv_stdL\n",
      "tbp_lv_C\n",
      "tbp_lv_symm_2axis_angle\n",
      "copyright_license\n",
      "tbp_lv_Lext\n",
      "tbp_lv_nevi_confidence\n",
      "tbp_lv_stdLExt\n",
      "tbp_lv_A\n",
      "tbp_lv_norm_border\n",
      "tbp_lv_Hext\n",
      "tbp_lv_location\n",
      "tbp_lv_radial_color_std_max\n",
      "patient_id\n"
     ]
    }
   ],
   "source": [
    "# get shared columns\n",
    "for feature in set(df_train_meta.columns).intersection(set(df_test_meta.columns)):\n",
    "    print(feature)"
   ],
   "metadata": {
    "collapsed": false,
    "ExecuteTime": {
     "end_time": "2024-07-05T13:31:29.616019Z",
     "start_time": "2024-07-05T13:31:29.609813Z"
    }
   },
   "id": "4eb8874497b9555b",
   "execution_count": 65
  },
  {
   "cell_type": "markdown",
   "source": [
    "We can see that `tbp_lv_deltaA = tbp_lv_A-tbp_lv_Aext`"
   ],
   "metadata": {
    "collapsed": false
   },
   "id": "8ac055d57d30ff8c"
  },
  {
   "cell_type": "code",
   "outputs": [],
   "source": [
    "def feature_engineering(df_data):\n",
    "    # the input is a dataFrame that has shared columns of train and test data\n",
    "    ## Color\n",
    "    df_data['tbp_lv_deltaH'] = df_data['tbp_lv_H'] - df_data['tbp_lv_Hext']\n",
    "    df_data['tbp_lv_deltaC'] = df_data['tbp_lv_C'] - df_data['tbp_lv_Cext']\n",
    "    df_data['tbp_lv_deltastdL'] = df_data['tbp_lv_stdL'] - df_data['tbp_lv_stdLExt']\n",
    "    \n",
    "    ## Diameter\n",
    "    df_data['average_diameter'] = (df_data['clin_size_long_diam_mm'] + df_data['tbp_lv_minorAxisMM'])/2\n",
    "    \n",
    "    \n",
    "    ## Others\n",
    "    # 3D distance of the lesion\n",
    "    df_data['3D_distance'] = np.sqrt(df_data['tbp_lv_x']**2 + df_data['tbp_lv_y']**2 + df_data['tbp_lv_z']**2)\n",
    "    # size contrast\n",
    "    df_data['size_contrast'] = df_data['clin_size_long_diam_mm'] / df_data['tbp_lv_minorAxisMM']\n",
    "    \n",
    "    columns_new = [\n",
    "        # Basic info\n",
    "        'isic_id',\n",
    "        'sex',\n",
    "        'anatom_site_general',\n",
    "        'tbp_lv_location_simple',\n",
    "        \n",
    "        'age_approx',\n",
    "        \n",
    "        # Shape\n",
    "        'tbp_lv_perimeterMM',\n",
    "        'tbp_lv_areaMM2',\n",
    "        'tbp_lv_eccentricity',\n",
    "        \n",
    "        # Color space\n",
    "        'tbp_lv_A','tbp_lv_deltaA',\n",
    "        'tbp_lv_B','tbp_lv_deltaB',\n",
    "        'tbp_lv_L','tbp_lv_deltaL',\n",
    "        'tbp_lv_H','tbp_lv_deltaH',\n",
    "        'tbp_lv_C','tbp_lv_deltaC',\n",
    "        'tbp_lv_deltastdL',\n",
    "        \n",
    "        'tbp_lv_color_std_mean',# color irregularity\n",
    "        'tbp_lv_radial_color_std_max', # color asymmetry\n",
    "        'tbp_lv_deltaLBnorm',\n",
    "        \n",
    "        # Asymmetry\n",
    "        'tbp_lv_symm_2axis',\n",
    "        'tbp_lv_symm_2axis_angle',\n",
    "        \n",
    "        # Border irregularity\n",
    "        'tbp_lv_area_perim_ratio',\n",
    "        \n",
    "        # Diameter\n",
    "        'average_diameter',\n",
    "        \n",
    "        # Others\n",
    "        '3D_distance',\n",
    "        'size_contrast',\n",
    "        'tbp_lv_nevi_confidence',\n",
    "        \n",
    "        \n",
    "    ]\n",
    "    \n",
    "    df_data_new = df_data[columns_new]\n",
    "    return df_data_new"
   ],
   "metadata": {
    "collapsed": false,
    "ExecuteTime": {
     "end_time": "2024-07-05T13:31:29.630041Z",
     "start_time": "2024-07-05T13:31:29.619034Z"
    }
   },
   "id": "ddcf27aa4fe04138",
   "execution_count": 66
  },
  {
   "cell_type": "markdown",
   "source": [
    "Use the training data where only there is a valid lesion"
   ],
   "metadata": {
    "collapsed": false
   },
   "id": "f38c918e85d9f8c2"
  },
  {
   "cell_type": "code",
   "outputs": [],
   "source": [
    "common_columns = list(set(df_train_meta.columns).intersection(set(df_test_meta.columns)))\n",
    "categorical_columns = ['sex','anatom_site_general','tbp_lv_location_simple']"
   ],
   "metadata": {
    "collapsed": false,
    "ExecuteTime": {
     "end_time": "2024-07-05T13:31:39.721542Z",
     "start_time": "2024-07-05T13:31:39.714221Z"
    }
   },
   "id": "122b65be44c90c13",
   "execution_count": 67
  },
  {
   "cell_type": "code",
   "outputs": [],
   "source": [
    "df_train_valid_lesion = df_train_meta[df_train_meta['lesion_id'].notna()][common_columns]"
   ],
   "metadata": {
    "collapsed": false,
    "ExecuteTime": {
     "end_time": "2024-07-05T13:31:45.580598Z",
     "start_time": "2024-07-05T13:31:45.522951Z"
    }
   },
   "id": "b5f61a2e819fdd07",
   "execution_count": 68
  },
  {
   "cell_type": "code",
   "outputs": [
    {
     "name": "stdout",
     "output_type": "stream",
     "text": [
      "<class 'pandas.core.frame.DataFrame'>\n",
      "Index: 22058 entries, 1 to 401056\n",
      "Data columns (total 44 columns):\n",
      " #   Column                       Non-Null Count  Dtype  \n",
      "---  ------                       --------------  -----  \n",
      " 0   tbp_lv_deltaA                22058 non-null  float64\n",
      " 1   isic_id                      22058 non-null  object \n",
      " 2   tbp_lv_z                     22058 non-null  float64\n",
      " 3   age_approx                   21894 non-null  float64\n",
      " 4   tbp_tile_type                22058 non-null  object \n",
      " 5   tbp_lv_y                     22058 non-null  float64\n",
      " 6   image_type                   22058 non-null  object \n",
      " 7   attribution                  22058 non-null  object \n",
      " 8   anatom_site_general          21917 non-null  object \n",
      " 9   tbp_lv_areaMM2               22058 non-null  float64\n",
      " 10  tbp_lv_color_std_mean        22058 non-null  float64\n",
      " 11  tbp_lv_H                     22058 non-null  float64\n",
      " 12  tbp_lv_deltaLB               22058 non-null  float64\n",
      " 13  tbp_lv_area_perim_ratio      22058 non-null  float64\n",
      " 14  clin_size_long_diam_mm       22058 non-null  float64\n",
      " 15  tbp_lv_symm_2axis            22058 non-null  float64\n",
      " 16  tbp_lv_L                     22058 non-null  float64\n",
      " 17  tbp_lv_eccentricity          22058 non-null  float64\n",
      " 18  tbp_lv_deltaLBnorm           22058 non-null  float64\n",
      " 19  tbp_lv_Bext                  22058 non-null  float64\n",
      " 20  tbp_lv_location_simple       22058 non-null  object \n",
      " 21  tbp_lv_minorAxisMM           22058 non-null  float64\n",
      " 22  tbp_lv_Aext                  22058 non-null  float64\n",
      " 23  tbp_lv_perimeterMM           22058 non-null  float64\n",
      " 24  tbp_lv_Cext                  22058 non-null  float64\n",
      " 25  tbp_lv_x                     22058 non-null  float64\n",
      " 26  tbp_lv_norm_color            22058 non-null  float64\n",
      " 27  tbp_lv_deltaB                22058 non-null  float64\n",
      " 28  sex                          21467 non-null  object \n",
      " 29  tbp_lv_deltaL                22058 non-null  float64\n",
      " 30  tbp_lv_B                     22058 non-null  float64\n",
      " 31  tbp_lv_stdL                  22058 non-null  float64\n",
      " 32  tbp_lv_C                     22058 non-null  float64\n",
      " 33  tbp_lv_symm_2axis_angle      22058 non-null  int64  \n",
      " 34  copyright_license            22058 non-null  object \n",
      " 35  tbp_lv_Lext                  22058 non-null  float64\n",
      " 36  tbp_lv_nevi_confidence       22058 non-null  float64\n",
      " 37  tbp_lv_stdLExt               22058 non-null  float64\n",
      " 38  tbp_lv_A                     22058 non-null  float64\n",
      " 39  tbp_lv_norm_border           22058 non-null  float64\n",
      " 40  tbp_lv_Hext                  22058 non-null  float64\n",
      " 41  tbp_lv_location              22058 non-null  object \n",
      " 42  tbp_lv_radial_color_std_max  22058 non-null  float64\n",
      " 43  patient_id                   22058 non-null  object \n",
      "dtypes: float64(33), int64(1), object(10)\n",
      "memory usage: 7.6+ MB\n"
     ]
    }
   ],
   "source": [
    "df_train_valid_lesion.info()"
   ],
   "metadata": {
    "collapsed": false,
    "ExecuteTime": {
     "end_time": "2024-07-05T13:31:47.472767Z",
     "start_time": "2024-07-05T13:31:47.426840Z"
    }
   },
   "id": "d4c824f47193ba30",
   "execution_count": 69
  },
  {
   "cell_type": "code",
   "outputs": [],
   "source": [
    "df_train_engineered = feature_engineering(df_train_valid_lesion)"
   ],
   "metadata": {
    "collapsed": false,
    "ExecuteTime": {
     "end_time": "2024-07-05T13:31:54.369972Z",
     "start_time": "2024-07-05T13:31:54.349465Z"
    }
   },
   "id": "b8a7d9e7aec5c3c8",
   "execution_count": 70
  },
  {
   "cell_type": "code",
   "outputs": [
    {
     "name": "stdout",
     "output_type": "stream",
     "text": [
      "<class 'pandas.core.frame.DataFrame'>\n",
      "Index: 22058 entries, 1 to 401056\n",
      "Data columns (total 29 columns):\n",
      " #   Column                       Non-Null Count  Dtype  \n",
      "---  ------                       --------------  -----  \n",
      " 0   isic_id                      22058 non-null  object \n",
      " 1   sex                          21467 non-null  object \n",
      " 2   anatom_site_general          21917 non-null  object \n",
      " 3   tbp_lv_location_simple       22058 non-null  object \n",
      " 4   age_approx                   21894 non-null  float64\n",
      " 5   tbp_lv_perimeterMM           22058 non-null  float64\n",
      " 6   tbp_lv_areaMM2               22058 non-null  float64\n",
      " 7   tbp_lv_eccentricity          22058 non-null  float64\n",
      " 8   tbp_lv_A                     22058 non-null  float64\n",
      " 9   tbp_lv_deltaA                22058 non-null  float64\n",
      " 10  tbp_lv_B                     22058 non-null  float64\n",
      " 11  tbp_lv_deltaB                22058 non-null  float64\n",
      " 12  tbp_lv_L                     22058 non-null  float64\n",
      " 13  tbp_lv_deltaL                22058 non-null  float64\n",
      " 14  tbp_lv_H                     22058 non-null  float64\n",
      " 15  tbp_lv_deltaH                22058 non-null  float64\n",
      " 16  tbp_lv_C                     22058 non-null  float64\n",
      " 17  tbp_lv_deltaC                22058 non-null  float64\n",
      " 18  tbp_lv_deltastdL             22058 non-null  float64\n",
      " 19  tbp_lv_color_std_mean        22058 non-null  float64\n",
      " 20  tbp_lv_radial_color_std_max  22058 non-null  float64\n",
      " 21  tbp_lv_deltaLBnorm           22058 non-null  float64\n",
      " 22  tbp_lv_symm_2axis            22058 non-null  float64\n",
      " 23  tbp_lv_symm_2axis_angle      22058 non-null  int64  \n",
      " 24  tbp_lv_area_perim_ratio      22058 non-null  float64\n",
      " 25  average_diameter             22058 non-null  float64\n",
      " 26  3D_distance                  22058 non-null  float64\n",
      " 27  size_contrast                22058 non-null  float64\n",
      " 28  tbp_lv_nevi_confidence       22058 non-null  float64\n",
      "dtypes: float64(24), int64(1), object(4)\n",
      "memory usage: 5.0+ MB\n"
     ]
    }
   ],
   "source": [
    "df_train_engineered.info()"
   ],
   "metadata": {
    "collapsed": false,
    "ExecuteTime": {
     "end_time": "2024-07-05T13:31:55.578098Z",
     "start_time": "2024-07-05T13:31:55.537266Z"
    }
   },
   "id": "7ad3039e66b6eb4a",
   "execution_count": 71
  },
  {
   "cell_type": "code",
   "outputs": [],
   "source": [
    "def fill_missing_value(engineered):\n",
    "    # input a already data engineered dataframe\n",
    "    # fill sex missing value\n",
    "    engineered['sex'] = engineered['sex'].fillna(engineered['sex'].mode()[0])\n",
    "    # fill anatom_site_general missing value\n",
    "    engineered['anatom_site_general'] = engineered['anatom_site_general'].fillna(engineered['anatom_site_general'].mode()[0])\n",
    "    # fill age_approx missing value with mean\n",
    "    engineered['age_approx'] = engineered['age_approx'].fillna(engineered['age_approx'].mean())\n",
    "    \n",
    "    return engineered"
   ],
   "metadata": {
    "collapsed": false,
    "ExecuteTime": {
     "end_time": "2024-07-05T13:32:03.464438Z",
     "start_time": "2024-07-05T13:32:03.454060Z"
    }
   },
   "id": "f9a3012352601e5e",
   "execution_count": 72
  },
  {
   "cell_type": "code",
   "outputs": [
    {
     "name": "stderr",
     "output_type": "stream",
     "text": [
      "C:\\Users\\26236\\AppData\\Local\\Temp\\ipykernel_9728\\1380944103.py:4: SettingWithCopyWarning: \n",
      "A value is trying to be set on a copy of a slice from a DataFrame.\n",
      "Try using .loc[row_indexer,col_indexer] = value instead\n",
      "\n",
      "See the caveats in the documentation: https://pandas.pydata.org/pandas-docs/stable/user_guide/indexing.html#returning-a-view-versus-a-copy\n",
      "  engineered['sex'] = engineered['sex'].fillna(engineered['sex'].mode()[0])\n",
      "C:\\Users\\26236\\AppData\\Local\\Temp\\ipykernel_9728\\1380944103.py:6: SettingWithCopyWarning: \n",
      "A value is trying to be set on a copy of a slice from a DataFrame.\n",
      "Try using .loc[row_indexer,col_indexer] = value instead\n",
      "\n",
      "See the caveats in the documentation: https://pandas.pydata.org/pandas-docs/stable/user_guide/indexing.html#returning-a-view-versus-a-copy\n",
      "  engineered['anatom_site_general'] = engineered['anatom_site_general'].fillna(engineered['anatom_site_general'].mode()[0])\n",
      "C:\\Users\\26236\\AppData\\Local\\Temp\\ipykernel_9728\\1380944103.py:8: SettingWithCopyWarning: \n",
      "A value is trying to be set on a copy of a slice from a DataFrame.\n",
      "Try using .loc[row_indexer,col_indexer] = value instead\n",
      "\n",
      "See the caveats in the documentation: https://pandas.pydata.org/pandas-docs/stable/user_guide/indexing.html#returning-a-view-versus-a-copy\n",
      "  engineered['age_approx'] = engineered['age_approx'].fillna(engineered['age_approx'].mean())\n"
     ]
    }
   ],
   "source": [
    "df_train_engineered_filled = fill_missing_value(df_train_engineered)"
   ],
   "metadata": {
    "collapsed": false,
    "ExecuteTime": {
     "end_time": "2024-07-05T13:32:04.314341Z",
     "start_time": "2024-07-05T13:32:04.293340Z"
    }
   },
   "id": "783cd9f9b020b7cb",
   "execution_count": 73
  },
  {
   "cell_type": "code",
   "outputs": [
    {
     "name": "stdout",
     "output_type": "stream",
     "text": [
      "<class 'pandas.core.frame.DataFrame'>\n",
      "Index: 22058 entries, 1 to 401056\n",
      "Data columns (total 29 columns):\n",
      " #   Column                       Non-Null Count  Dtype  \n",
      "---  ------                       --------------  -----  \n",
      " 0   isic_id                      22058 non-null  object \n",
      " 1   sex                          22058 non-null  object \n",
      " 2   anatom_site_general          22058 non-null  object \n",
      " 3   tbp_lv_location_simple       22058 non-null  object \n",
      " 4   age_approx                   22058 non-null  float64\n",
      " 5   tbp_lv_perimeterMM           22058 non-null  float64\n",
      " 6   tbp_lv_areaMM2               22058 non-null  float64\n",
      " 7   tbp_lv_eccentricity          22058 non-null  float64\n",
      " 8   tbp_lv_A                     22058 non-null  float64\n",
      " 9   tbp_lv_deltaA                22058 non-null  float64\n",
      " 10  tbp_lv_B                     22058 non-null  float64\n",
      " 11  tbp_lv_deltaB                22058 non-null  float64\n",
      " 12  tbp_lv_L                     22058 non-null  float64\n",
      " 13  tbp_lv_deltaL                22058 non-null  float64\n",
      " 14  tbp_lv_H                     22058 non-null  float64\n",
      " 15  tbp_lv_deltaH                22058 non-null  float64\n",
      " 16  tbp_lv_C                     22058 non-null  float64\n",
      " 17  tbp_lv_deltaC                22058 non-null  float64\n",
      " 18  tbp_lv_deltastdL             22058 non-null  float64\n",
      " 19  tbp_lv_color_std_mean        22058 non-null  float64\n",
      " 20  tbp_lv_radial_color_std_max  22058 non-null  float64\n",
      " 21  tbp_lv_deltaLBnorm           22058 non-null  float64\n",
      " 22  tbp_lv_symm_2axis            22058 non-null  float64\n",
      " 23  tbp_lv_symm_2axis_angle      22058 non-null  int64  \n",
      " 24  tbp_lv_area_perim_ratio      22058 non-null  float64\n",
      " 25  average_diameter             22058 non-null  float64\n",
      " 26  3D_distance                  22058 non-null  float64\n",
      " 27  size_contrast                22058 non-null  float64\n",
      " 28  tbp_lv_nevi_confidence       22058 non-null  float64\n",
      "dtypes: float64(24), int64(1), object(4)\n",
      "memory usage: 5.0+ MB\n"
     ]
    }
   ],
   "source": [
    "df_train_engineered_filled.info()"
   ],
   "metadata": {
    "collapsed": false,
    "ExecuteTime": {
     "end_time": "2024-07-05T13:32:06.490185Z",
     "start_time": "2024-07-05T13:32:06.467014Z"
    }
   },
   "id": "1948a3caa2d40b96",
   "execution_count": 74
  },
  {
   "cell_type": "code",
   "outputs": [],
   "source": [
    "# feature engineer the test set\n",
    "df_test_engineered = feature_engineering(df_test_meta)"
   ],
   "metadata": {
    "collapsed": false,
    "ExecuteTime": {
     "end_time": "2024-07-05T13:32:22.974324Z",
     "start_time": "2024-07-05T13:32:22.959367Z"
    }
   },
   "id": "a417e084475d3b58",
   "execution_count": 75
  },
  {
   "cell_type": "code",
   "outputs": [
    {
     "data": {
      "text/plain": "        isic_id     sex anatom_site_general tbp_lv_location_simple  \\\n0  ISIC_0015657    male     posterior torso             Torso Back   \n1  ISIC_0015729  female     lower extremity               Left Leg   \n2  ISIC_0015740    male     posterior torso             Torso Back   \n\n   age_approx  tbp_lv_perimeterMM  tbp_lv_areaMM2  tbp_lv_eccentricity  \\\n0        45.0            9.387248        3.846876             0.664465   \n1        35.0            6.340311        2.120473             0.926698   \n2        65.0            8.130868        3.396510             0.894776   \n\n   tbp_lv_A  tbp_lv_deltaA  ...  tbp_lv_color_std_mean  \\\n0  22.80433       2.797056  ...               0.461149   \n1  16.64867       6.990705  ...               0.000000   \n2  24.25384       4.316465  ...               0.251236   \n\n   tbp_lv_radial_color_std_max  tbp_lv_deltaLBnorm  tbp_lv_symm_2axis  \\\n0                     0.304827            6.843057           0.479339   \n1                     0.000000            6.083388           0.426230   \n2                     0.230742            5.446997           0.366071   \n\n   tbp_lv_symm_2axis_angle  tbp_lv_area_perim_ratio  average_diameter  \\\n0                       20                22.907010          2.443822   \n1                       25                18.957821          1.776333   \n2                      110                19.464400          2.340393   \n\n   3D_distance  size_contrast  tbp_lv_nevi_confidence  \n0  1523.426592       1.234204            1.698104e-02  \n1   639.662302       2.440286            2.107364e-01  \n2  1307.012048       2.077873            8.052259e-13  \n\n[3 rows x 29 columns]",
      "text/html": "<div>\n<style scoped>\n    .dataframe tbody tr th:only-of-type {\n        vertical-align: middle;\n    }\n\n    .dataframe tbody tr th {\n        vertical-align: top;\n    }\n\n    .dataframe thead th {\n        text-align: right;\n    }\n</style>\n<table border=\"1\" class=\"dataframe\">\n  <thead>\n    <tr style=\"text-align: right;\">\n      <th></th>\n      <th>isic_id</th>\n      <th>sex</th>\n      <th>anatom_site_general</th>\n      <th>tbp_lv_location_simple</th>\n      <th>age_approx</th>\n      <th>tbp_lv_perimeterMM</th>\n      <th>tbp_lv_areaMM2</th>\n      <th>tbp_lv_eccentricity</th>\n      <th>tbp_lv_A</th>\n      <th>tbp_lv_deltaA</th>\n      <th>...</th>\n      <th>tbp_lv_color_std_mean</th>\n      <th>tbp_lv_radial_color_std_max</th>\n      <th>tbp_lv_deltaLBnorm</th>\n      <th>tbp_lv_symm_2axis</th>\n      <th>tbp_lv_symm_2axis_angle</th>\n      <th>tbp_lv_area_perim_ratio</th>\n      <th>average_diameter</th>\n      <th>3D_distance</th>\n      <th>size_contrast</th>\n      <th>tbp_lv_nevi_confidence</th>\n    </tr>\n  </thead>\n  <tbody>\n    <tr>\n      <th>0</th>\n      <td>ISIC_0015657</td>\n      <td>male</td>\n      <td>posterior torso</td>\n      <td>Torso Back</td>\n      <td>45.0</td>\n      <td>9.387248</td>\n      <td>3.846876</td>\n      <td>0.664465</td>\n      <td>22.80433</td>\n      <td>2.797056</td>\n      <td>...</td>\n      <td>0.461149</td>\n      <td>0.304827</td>\n      <td>6.843057</td>\n      <td>0.479339</td>\n      <td>20</td>\n      <td>22.907010</td>\n      <td>2.443822</td>\n      <td>1523.426592</td>\n      <td>1.234204</td>\n      <td>1.698104e-02</td>\n    </tr>\n    <tr>\n      <th>1</th>\n      <td>ISIC_0015729</td>\n      <td>female</td>\n      <td>lower extremity</td>\n      <td>Left Leg</td>\n      <td>35.0</td>\n      <td>6.340311</td>\n      <td>2.120473</td>\n      <td>0.926698</td>\n      <td>16.64867</td>\n      <td>6.990705</td>\n      <td>...</td>\n      <td>0.000000</td>\n      <td>0.000000</td>\n      <td>6.083388</td>\n      <td>0.426230</td>\n      <td>25</td>\n      <td>18.957821</td>\n      <td>1.776333</td>\n      <td>639.662302</td>\n      <td>2.440286</td>\n      <td>2.107364e-01</td>\n    </tr>\n    <tr>\n      <th>2</th>\n      <td>ISIC_0015740</td>\n      <td>male</td>\n      <td>posterior torso</td>\n      <td>Torso Back</td>\n      <td>65.0</td>\n      <td>8.130868</td>\n      <td>3.396510</td>\n      <td>0.894776</td>\n      <td>24.25384</td>\n      <td>4.316465</td>\n      <td>...</td>\n      <td>0.251236</td>\n      <td>0.230742</td>\n      <td>5.446997</td>\n      <td>0.366071</td>\n      <td>110</td>\n      <td>19.464400</td>\n      <td>2.340393</td>\n      <td>1307.012048</td>\n      <td>2.077873</td>\n      <td>8.052259e-13</td>\n    </tr>\n  </tbody>\n</table>\n<p>3 rows × 29 columns</p>\n</div>"
     },
     "execution_count": 76,
     "metadata": {},
     "output_type": "execute_result"
    }
   ],
   "source": [
    "df_test_engineered"
   ],
   "metadata": {
    "collapsed": false,
    "ExecuteTime": {
     "end_time": "2024-07-05T13:32:29.916334Z",
     "start_time": "2024-07-05T13:32:29.868990Z"
    }
   },
   "id": "b71d92702168e07b",
   "execution_count": 76
  },
  {
   "cell_type": "code",
   "outputs": [],
   "source": [
    "df_train_engineered_filled_drop_isic = df_train_engineered_filled.drop(columns=['isic_id'])\n",
    "df_test_engineered_drop_isic = df_test_engineered.drop(columns=['isic_id'])"
   ],
   "metadata": {
    "collapsed": false,
    "ExecuteTime": {
     "end_time": "2024-07-05T13:43:44.819505Z",
     "start_time": "2024-07-05T13:43:44.810555Z"
    }
   },
   "id": "221ec2513eb776f1",
   "execution_count": 94
  },
  {
   "cell_type": "markdown",
   "source": [
    "## One hot encoding"
   ],
   "metadata": {
    "collapsed": false
   },
   "id": "bd85a1e4a8680fe3"
  },
  {
   "cell_type": "code",
   "outputs": [],
   "source": [
    "from sklearn.preprocessing import OneHotEncoder"
   ],
   "metadata": {
    "collapsed": false,
    "ExecuteTime": {
     "end_time": "2024-07-05T13:32:44.131620Z",
     "start_time": "2024-07-05T13:32:44.125498Z"
    }
   },
   "id": "2e873b85e9997527",
   "execution_count": 78
  },
  {
   "cell_type": "code",
   "outputs": [],
   "source": [
    "concat_train_submission = pd.concat([df_train_engineered_filled_drop_isic, df_test_engineered_drop_isic], axis=0)"
   ],
   "metadata": {
    "collapsed": false,
    "ExecuteTime": {
     "end_time": "2024-07-05T13:32:47.614832Z",
     "start_time": "2024-07-05T13:32:47.600574Z"
    }
   },
   "id": "40d2975415f0f6e1",
   "execution_count": 79
  },
  {
   "cell_type": "code",
   "outputs": [
    {
     "name": "stdout",
     "output_type": "stream",
     "text": [
      "<class 'pandas.core.frame.DataFrame'>\n",
      "Index: 22061 entries, 1 to 2\n",
      "Data columns (total 28 columns):\n",
      " #   Column                       Non-Null Count  Dtype  \n",
      "---  ------                       --------------  -----  \n",
      " 0   sex                          22061 non-null  object \n",
      " 1   anatom_site_general          22061 non-null  object \n",
      " 2   tbp_lv_location_simple       22061 non-null  object \n",
      " 3   age_approx                   22061 non-null  float64\n",
      " 4   tbp_lv_perimeterMM           22061 non-null  float64\n",
      " 5   tbp_lv_areaMM2               22061 non-null  float64\n",
      " 6   tbp_lv_eccentricity          22061 non-null  float64\n",
      " 7   tbp_lv_A                     22061 non-null  float64\n",
      " 8   tbp_lv_deltaA                22061 non-null  float64\n",
      " 9   tbp_lv_B                     22061 non-null  float64\n",
      " 10  tbp_lv_deltaB                22061 non-null  float64\n",
      " 11  tbp_lv_L                     22061 non-null  float64\n",
      " 12  tbp_lv_deltaL                22061 non-null  float64\n",
      " 13  tbp_lv_H                     22061 non-null  float64\n",
      " 14  tbp_lv_deltaH                22061 non-null  float64\n",
      " 15  tbp_lv_C                     22061 non-null  float64\n",
      " 16  tbp_lv_deltaC                22061 non-null  float64\n",
      " 17  tbp_lv_deltastdL             22061 non-null  float64\n",
      " 18  tbp_lv_color_std_mean        22061 non-null  float64\n",
      " 19  tbp_lv_radial_color_std_max  22061 non-null  float64\n",
      " 20  tbp_lv_deltaLBnorm           22061 non-null  float64\n",
      " 21  tbp_lv_symm_2axis            22061 non-null  float64\n",
      " 22  tbp_lv_symm_2axis_angle      22061 non-null  int64  \n",
      " 23  tbp_lv_area_perim_ratio      22061 non-null  float64\n",
      " 24  average_diameter             22061 non-null  float64\n",
      " 25  3D_distance                  22061 non-null  float64\n",
      " 26  size_contrast                22061 non-null  float64\n",
      " 27  tbp_lv_nevi_confidence       22061 non-null  float64\n",
      "dtypes: float64(24), int64(1), object(3)\n",
      "memory usage: 4.9+ MB\n"
     ]
    }
   ],
   "source": [
    "concat_train_submission.info()"
   ],
   "metadata": {
    "collapsed": false,
    "ExecuteTime": {
     "end_time": "2024-07-05T13:32:49.528440Z",
     "start_time": "2024-07-05T13:32:49.509598Z"
    }
   },
   "id": "d721605727778819",
   "execution_count": 80
  },
  {
   "cell_type": "code",
   "outputs": [
    {
     "name": "stdout",
     "output_type": "stream",
     "text": [
      "<class 'pandas.core.frame.DataFrame'>\n",
      "Index: 22061 entries, 1 to 2\n",
      "Data columns (total 3 columns):\n",
      " #   Column                  Non-Null Count  Dtype \n",
      "---  ------                  --------------  ----- \n",
      " 0   sex                     22061 non-null  object\n",
      " 1   anatom_site_general     22061 non-null  object\n",
      " 2   tbp_lv_location_simple  22061 non-null  object\n",
      "dtypes: object(3)\n",
      "memory usage: 689.4+ KB\n"
     ]
    }
   ],
   "source": [
    "concat_train_submission[categorical_columns].info()"
   ],
   "metadata": {
    "collapsed": false,
    "ExecuteTime": {
     "end_time": "2024-07-05T13:33:15.502723Z",
     "start_time": "2024-07-05T13:33:15.485834Z"
    }
   },
   "id": "105b15dc4a011377",
   "execution_count": 82
  },
  {
   "cell_type": "code",
   "outputs": [
    {
     "name": "stderr",
     "output_type": "stream",
     "text": [
      "C:\\Users\\26236\\anaconda3\\envs\\ima-env\\Lib\\site-packages\\sklearn\\preprocessing\\_encoders.py:975: FutureWarning: `sparse` was renamed to `sparse_output` in version 1.2 and will be removed in 1.4. `sparse_output` is ignored unless you leave `sparse` to its default value.\n",
      "  warnings.warn(\n"
     ]
    }
   ],
   "source": [
    "# one hot encoding\n",
    "encoder = OneHotEncoder(sparse=False)\n",
    "encoder.fit(concat_train_submission[categorical_columns])\n",
    "\n",
    "train_encoded = encoder.transform(df_train_engineered_filled_drop_isic[categorical_columns])\n",
    "test_encoded = encoder.transform(df_test_engineered_drop_isic[categorical_columns])\n",
    "\n",
    "train_encoded = pd.DataFrame(train_encoded, columns=encoder.get_feature_names_out(categorical_columns))\n",
    "test_encoded = pd.DataFrame(test_encoded, columns=encoder.get_feature_names_out(categorical_columns))\n",
    "\n",
    "train_encoded.index = df_train_engineered_filled_drop_isic.index\n",
    "test_encoded.index = df_test_engineered_drop_isic.index\n"
   ],
   "metadata": {
    "collapsed": false,
    "ExecuteTime": {
     "end_time": "2024-07-05T13:33:58.879586Z",
     "start_time": "2024-07-05T13:33:58.833069Z"
    }
   },
   "id": "12648b9adf88effb",
   "execution_count": 83
  },
  {
   "cell_type": "code",
   "outputs": [
    {
     "data": {
      "text/plain": "        sex_female  sex_male  anatom_site_general_anterior torso  \\\n1              0.0       1.0                                 0.0   \n49             1.0       0.0                                 0.0   \n76             0.0       1.0                                 0.0   \n93             1.0       0.0                                 0.0   \n107            1.0       0.0                                 0.0   \n...            ...       ...                                 ...   \n400997         0.0       1.0                                 0.0   \n401019         1.0       0.0                                 1.0   \n401028         1.0       0.0                                 0.0   \n401054         0.0       1.0                                 1.0   \n401056         1.0       0.0                                 1.0   \n\n        anatom_site_general_head/neck  anatom_site_general_lower extremity  \\\n1                                 1.0                                  0.0   \n49                                0.0                                  0.0   \n76                                0.0                                  0.0   \n93                                0.0                                  1.0   \n107                               0.0                                  0.0   \n...                               ...                                  ...   \n400997                            0.0                                  1.0   \n401019                            0.0                                  0.0   \n401028                            0.0                                  1.0   \n401054                            0.0                                  0.0   \n401056                            0.0                                  0.0   \n\n        anatom_site_general_posterior torso  \\\n1                                       0.0   \n49                                      1.0   \n76                                      0.0   \n93                                      0.0   \n107                                     1.0   \n...                                     ...   \n400997                                  0.0   \n401019                                  0.0   \n401028                                  0.0   \n401054                                  0.0   \n401056                                  0.0   \n\n        anatom_site_general_upper extremity  \\\n1                                       0.0   \n49                                      0.0   \n76                                      1.0   \n93                                      0.0   \n107                                     0.0   \n...                                     ...   \n400997                                  0.0   \n401019                                  0.0   \n401028                                  0.0   \n401054                                  0.0   \n401056                                  0.0   \n\n        tbp_lv_location_simple_Head & Neck  tbp_lv_location_simple_Left Arm  \\\n1                                      1.0                              0.0   \n49                                     0.0                              0.0   \n76                                     0.0                              1.0   \n93                                     0.0                              0.0   \n107                                    0.0                              0.0   \n...                                    ...                              ...   \n400997                                 0.0                              0.0   \n401019                                 0.0                              0.0   \n401028                                 0.0                              0.0   \n401054                                 0.0                              0.0   \n401056                                 0.0                              0.0   \n\n        tbp_lv_location_simple_Left Leg  tbp_lv_location_simple_Right Arm  \\\n1                                   0.0                               0.0   \n49                                  0.0                               0.0   \n76                                  0.0                               0.0   \n93                                  0.0                               0.0   \n107                                 0.0                               0.0   \n...                                 ...                               ...   \n400997                              1.0                               0.0   \n401019                              0.0                               0.0   \n401028                              1.0                               0.0   \n401054                              0.0                               0.0   \n401056                              0.0                               0.0   \n\n        tbp_lv_location_simple_Right Leg  tbp_lv_location_simple_Torso Back  \\\n1                                    0.0                                0.0   \n49                                   0.0                                1.0   \n76                                   0.0                                0.0   \n93                                   1.0                                0.0   \n107                                  0.0                                1.0   \n...                                  ...                                ...   \n400997                               0.0                                0.0   \n401019                               0.0                                0.0   \n401028                               0.0                                0.0   \n401054                               0.0                                0.0   \n401056                               0.0                                0.0   \n\n        tbp_lv_location_simple_Torso Front  tbp_lv_location_simple_Unknown  \n1                                      0.0                             0.0  \n49                                     0.0                             0.0  \n76                                     0.0                             0.0  \n93                                     0.0                             0.0  \n107                                    0.0                             0.0  \n...                                    ...                             ...  \n400997                                 0.0                             0.0  \n401019                                 1.0                             0.0  \n401028                                 0.0                             0.0  \n401054                                 1.0                             0.0  \n401056                                 1.0                             0.0  \n\n[22058 rows x 15 columns]",
      "text/html": "<div>\n<style scoped>\n    .dataframe tbody tr th:only-of-type {\n        vertical-align: middle;\n    }\n\n    .dataframe tbody tr th {\n        vertical-align: top;\n    }\n\n    .dataframe thead th {\n        text-align: right;\n    }\n</style>\n<table border=\"1\" class=\"dataframe\">\n  <thead>\n    <tr style=\"text-align: right;\">\n      <th></th>\n      <th>sex_female</th>\n      <th>sex_male</th>\n      <th>anatom_site_general_anterior torso</th>\n      <th>anatom_site_general_head/neck</th>\n      <th>anatom_site_general_lower extremity</th>\n      <th>anatom_site_general_posterior torso</th>\n      <th>anatom_site_general_upper extremity</th>\n      <th>tbp_lv_location_simple_Head &amp; Neck</th>\n      <th>tbp_lv_location_simple_Left Arm</th>\n      <th>tbp_lv_location_simple_Left Leg</th>\n      <th>tbp_lv_location_simple_Right Arm</th>\n      <th>tbp_lv_location_simple_Right Leg</th>\n      <th>tbp_lv_location_simple_Torso Back</th>\n      <th>tbp_lv_location_simple_Torso Front</th>\n      <th>tbp_lv_location_simple_Unknown</th>\n    </tr>\n  </thead>\n  <tbody>\n    <tr>\n      <th>1</th>\n      <td>0.0</td>\n      <td>1.0</td>\n      <td>0.0</td>\n      <td>1.0</td>\n      <td>0.0</td>\n      <td>0.0</td>\n      <td>0.0</td>\n      <td>1.0</td>\n      <td>0.0</td>\n      <td>0.0</td>\n      <td>0.0</td>\n      <td>0.0</td>\n      <td>0.0</td>\n      <td>0.0</td>\n      <td>0.0</td>\n    </tr>\n    <tr>\n      <th>49</th>\n      <td>1.0</td>\n      <td>0.0</td>\n      <td>0.0</td>\n      <td>0.0</td>\n      <td>0.0</td>\n      <td>1.0</td>\n      <td>0.0</td>\n      <td>0.0</td>\n      <td>0.0</td>\n      <td>0.0</td>\n      <td>0.0</td>\n      <td>0.0</td>\n      <td>1.0</td>\n      <td>0.0</td>\n      <td>0.0</td>\n    </tr>\n    <tr>\n      <th>76</th>\n      <td>0.0</td>\n      <td>1.0</td>\n      <td>0.0</td>\n      <td>0.0</td>\n      <td>0.0</td>\n      <td>0.0</td>\n      <td>1.0</td>\n      <td>0.0</td>\n      <td>1.0</td>\n      <td>0.0</td>\n      <td>0.0</td>\n      <td>0.0</td>\n      <td>0.0</td>\n      <td>0.0</td>\n      <td>0.0</td>\n    </tr>\n    <tr>\n      <th>93</th>\n      <td>1.0</td>\n      <td>0.0</td>\n      <td>0.0</td>\n      <td>0.0</td>\n      <td>1.0</td>\n      <td>0.0</td>\n      <td>0.0</td>\n      <td>0.0</td>\n      <td>0.0</td>\n      <td>0.0</td>\n      <td>0.0</td>\n      <td>1.0</td>\n      <td>0.0</td>\n      <td>0.0</td>\n      <td>0.0</td>\n    </tr>\n    <tr>\n      <th>107</th>\n      <td>1.0</td>\n      <td>0.0</td>\n      <td>0.0</td>\n      <td>0.0</td>\n      <td>0.0</td>\n      <td>1.0</td>\n      <td>0.0</td>\n      <td>0.0</td>\n      <td>0.0</td>\n      <td>0.0</td>\n      <td>0.0</td>\n      <td>0.0</td>\n      <td>1.0</td>\n      <td>0.0</td>\n      <td>0.0</td>\n    </tr>\n    <tr>\n      <th>...</th>\n      <td>...</td>\n      <td>...</td>\n      <td>...</td>\n      <td>...</td>\n      <td>...</td>\n      <td>...</td>\n      <td>...</td>\n      <td>...</td>\n      <td>...</td>\n      <td>...</td>\n      <td>...</td>\n      <td>...</td>\n      <td>...</td>\n      <td>...</td>\n      <td>...</td>\n    </tr>\n    <tr>\n      <th>400997</th>\n      <td>0.0</td>\n      <td>1.0</td>\n      <td>0.0</td>\n      <td>0.0</td>\n      <td>1.0</td>\n      <td>0.0</td>\n      <td>0.0</td>\n      <td>0.0</td>\n      <td>0.0</td>\n      <td>1.0</td>\n      <td>0.0</td>\n      <td>0.0</td>\n      <td>0.0</td>\n      <td>0.0</td>\n      <td>0.0</td>\n    </tr>\n    <tr>\n      <th>401019</th>\n      <td>1.0</td>\n      <td>0.0</td>\n      <td>1.0</td>\n      <td>0.0</td>\n      <td>0.0</td>\n      <td>0.0</td>\n      <td>0.0</td>\n      <td>0.0</td>\n      <td>0.0</td>\n      <td>0.0</td>\n      <td>0.0</td>\n      <td>0.0</td>\n      <td>0.0</td>\n      <td>1.0</td>\n      <td>0.0</td>\n    </tr>\n    <tr>\n      <th>401028</th>\n      <td>1.0</td>\n      <td>0.0</td>\n      <td>0.0</td>\n      <td>0.0</td>\n      <td>1.0</td>\n      <td>0.0</td>\n      <td>0.0</td>\n      <td>0.0</td>\n      <td>0.0</td>\n      <td>1.0</td>\n      <td>0.0</td>\n      <td>0.0</td>\n      <td>0.0</td>\n      <td>0.0</td>\n      <td>0.0</td>\n    </tr>\n    <tr>\n      <th>401054</th>\n      <td>0.0</td>\n      <td>1.0</td>\n      <td>1.0</td>\n      <td>0.0</td>\n      <td>0.0</td>\n      <td>0.0</td>\n      <td>0.0</td>\n      <td>0.0</td>\n      <td>0.0</td>\n      <td>0.0</td>\n      <td>0.0</td>\n      <td>0.0</td>\n      <td>0.0</td>\n      <td>1.0</td>\n      <td>0.0</td>\n    </tr>\n    <tr>\n      <th>401056</th>\n      <td>1.0</td>\n      <td>0.0</td>\n      <td>1.0</td>\n      <td>0.0</td>\n      <td>0.0</td>\n      <td>0.0</td>\n      <td>0.0</td>\n      <td>0.0</td>\n      <td>0.0</td>\n      <td>0.0</td>\n      <td>0.0</td>\n      <td>0.0</td>\n      <td>0.0</td>\n      <td>1.0</td>\n      <td>0.0</td>\n    </tr>\n  </tbody>\n</table>\n<p>22058 rows × 15 columns</p>\n</div>"
     },
     "execution_count": 84,
     "metadata": {},
     "output_type": "execute_result"
    }
   ],
   "source": [
    "train_encoded"
   ],
   "metadata": {
    "collapsed": false,
    "ExecuteTime": {
     "end_time": "2024-07-05T13:34:03.609983Z",
     "start_time": "2024-07-05T13:34:03.569214Z"
    }
   },
   "id": "6d8375ac9bb88efd",
   "execution_count": 84
  },
  {
   "cell_type": "code",
   "outputs": [
    {
     "data": {
      "text/plain": "   sex_female  sex_male  anatom_site_general_anterior torso  \\\n0         0.0       1.0                                 0.0   \n1         1.0       0.0                                 0.0   \n2         0.0       1.0                                 0.0   \n\n   anatom_site_general_head/neck  anatom_site_general_lower extremity  \\\n0                            0.0                                  0.0   \n1                            0.0                                  1.0   \n2                            0.0                                  0.0   \n\n   anatom_site_general_posterior torso  anatom_site_general_upper extremity  \\\n0                                  1.0                                  0.0   \n1                                  0.0                                  0.0   \n2                                  1.0                                  0.0   \n\n   tbp_lv_location_simple_Head & Neck  tbp_lv_location_simple_Left Arm  \\\n0                                 0.0                              0.0   \n1                                 0.0                              0.0   \n2                                 0.0                              0.0   \n\n   tbp_lv_location_simple_Left Leg  tbp_lv_location_simple_Right Arm  \\\n0                              0.0                               0.0   \n1                              1.0                               0.0   \n2                              0.0                               0.0   \n\n   tbp_lv_location_simple_Right Leg  tbp_lv_location_simple_Torso Back  \\\n0                               0.0                                1.0   \n1                               0.0                                0.0   \n2                               0.0                                1.0   \n\n   tbp_lv_location_simple_Torso Front  tbp_lv_location_simple_Unknown  \n0                                 0.0                             0.0  \n1                                 0.0                             0.0  \n2                                 0.0                             0.0  ",
      "text/html": "<div>\n<style scoped>\n    .dataframe tbody tr th:only-of-type {\n        vertical-align: middle;\n    }\n\n    .dataframe tbody tr th {\n        vertical-align: top;\n    }\n\n    .dataframe thead th {\n        text-align: right;\n    }\n</style>\n<table border=\"1\" class=\"dataframe\">\n  <thead>\n    <tr style=\"text-align: right;\">\n      <th></th>\n      <th>sex_female</th>\n      <th>sex_male</th>\n      <th>anatom_site_general_anterior torso</th>\n      <th>anatom_site_general_head/neck</th>\n      <th>anatom_site_general_lower extremity</th>\n      <th>anatom_site_general_posterior torso</th>\n      <th>anatom_site_general_upper extremity</th>\n      <th>tbp_lv_location_simple_Head &amp; Neck</th>\n      <th>tbp_lv_location_simple_Left Arm</th>\n      <th>tbp_lv_location_simple_Left Leg</th>\n      <th>tbp_lv_location_simple_Right Arm</th>\n      <th>tbp_lv_location_simple_Right Leg</th>\n      <th>tbp_lv_location_simple_Torso Back</th>\n      <th>tbp_lv_location_simple_Torso Front</th>\n      <th>tbp_lv_location_simple_Unknown</th>\n    </tr>\n  </thead>\n  <tbody>\n    <tr>\n      <th>0</th>\n      <td>0.0</td>\n      <td>1.0</td>\n      <td>0.0</td>\n      <td>0.0</td>\n      <td>0.0</td>\n      <td>1.0</td>\n      <td>0.0</td>\n      <td>0.0</td>\n      <td>0.0</td>\n      <td>0.0</td>\n      <td>0.0</td>\n      <td>0.0</td>\n      <td>1.0</td>\n      <td>0.0</td>\n      <td>0.0</td>\n    </tr>\n    <tr>\n      <th>1</th>\n      <td>1.0</td>\n      <td>0.0</td>\n      <td>0.0</td>\n      <td>0.0</td>\n      <td>1.0</td>\n      <td>0.0</td>\n      <td>0.0</td>\n      <td>0.0</td>\n      <td>0.0</td>\n      <td>1.0</td>\n      <td>0.0</td>\n      <td>0.0</td>\n      <td>0.0</td>\n      <td>0.0</td>\n      <td>0.0</td>\n    </tr>\n    <tr>\n      <th>2</th>\n      <td>0.0</td>\n      <td>1.0</td>\n      <td>0.0</td>\n      <td>0.0</td>\n      <td>0.0</td>\n      <td>1.0</td>\n      <td>0.0</td>\n      <td>0.0</td>\n      <td>0.0</td>\n      <td>0.0</td>\n      <td>0.0</td>\n      <td>0.0</td>\n      <td>1.0</td>\n      <td>0.0</td>\n      <td>0.0</td>\n    </tr>\n  </tbody>\n</table>\n</div>"
     },
     "execution_count": 85,
     "metadata": {},
     "output_type": "execute_result"
    }
   ],
   "source": [
    "test_encoded"
   ],
   "metadata": {
    "collapsed": false,
    "ExecuteTime": {
     "end_time": "2024-07-05T13:34:50.232940Z",
     "start_time": "2024-07-05T13:34:50.194165Z"
    }
   },
   "id": "f8deca7724923552",
   "execution_count": 85
  },
  {
   "cell_type": "code",
   "outputs": [],
   "source": [
    "df_train_non_categorical = df_train_engineered_filled_drop_isic.drop(columns=categorical_columns).copy()\n",
    "df_test_non_categorical = df_test_engineered_drop_isic.drop(columns=categorical_columns).copy()"
   ],
   "metadata": {
    "collapsed": false,
    "ExecuteTime": {
     "end_time": "2024-07-05T13:44:30.377872Z",
     "start_time": "2024-07-05T13:44:30.365468Z"
    }
   },
   "id": "7dd2c99b57e450f9",
   "execution_count": 95
  },
  {
   "cell_type": "code",
   "outputs": [
    {
     "data": {
      "text/plain": "        age_approx  tbp_lv_perimeterMM  tbp_lv_areaMM2  tbp_lv_eccentricity  \\\n1             60.0            3.354148        0.919497             0.639885   \n49            40.0           26.919133       31.975980             0.900678   \n76            50.0           22.729299       28.617001             0.338695   \n93            40.0            9.340242        5.948583             0.771271   \n107           40.0           27.874004       46.162507             0.641768   \n...            ...                 ...             ...                  ...   \n400997        40.0           12.580907       10.602364             0.368088   \n401019        50.0           17.244140       19.703510             0.602607   \n401028        50.0           21.046520       23.531620             0.690787   \n401054        70.0           20.210836       22.893601             0.744495   \n401056        65.0            5.999862        2.758491             0.649815   \n\n         tbp_lv_A  tbp_lv_deltaA   tbp_lv_B  tbp_lv_deltaB   tbp_lv_L  \\\n1       31.712570       6.347830  26.331000       1.781713  48.861520   \n49      24.237019       9.945246  28.042227       1.076805  46.763747   \n76      19.600317       2.792177  29.830666      -1.369085  56.975435   \n93      18.007100       7.260954  24.833930       2.673692  35.715100   \n107     21.315824      11.781624  30.914309       1.940967  46.968562   \n...           ...            ...        ...            ...        ...   \n400997  16.600171       8.612198  24.960904       2.458680  33.987772   \n401019  12.549400       2.753092  19.351570      -0.862427  47.683380   \n401028  17.290400       7.059696  31.807810       2.683314  46.497300   \n401054  22.574335       7.629668  27.663259       0.896124  36.333547   \n401056  17.332567       4.968169  29.845326       3.345253  39.413663   \n\n        tbp_lv_deltaL  ...  tbp_lv_color_std_mean  \\\n1           -6.500838  ...               0.000000   \n49         -25.334512  ...               3.947276   \n76         -11.353676  ...               1.522630   \n93         -13.454040  ...               1.255051   \n107        -14.629774  ...               3.170209   \n...               ...  ...                    ...   \n400997     -14.868723  ...               2.215048   \n401019     -21.763030  ...               5.393046   \n401028      -9.201123  ...               1.714663   \n401054     -17.008450  ...               2.579861   \n401056      -8.426838  ...               0.498197   \n\n        tbp_lv_radial_color_std_max  tbp_lv_deltaLBnorm  tbp_lv_symm_2axis  \\\n1                          0.000000            4.987244           0.285714   \n49                         3.215515           15.996656           0.144565   \n76                         1.807261            7.462467           0.160248   \n93                         1.006729           11.708370           0.190184   \n107                        3.187016           10.669963           0.117188   \n...                             ...                 ...                ...   \n400997                     1.429700           13.053903           0.173633   \n401019                     5.922404           14.266840           0.087591   \n401028                     1.654323            7.489153           0.272476   \n401054                     2.328066           13.498163           0.288920   \n401056                     0.607554            7.842607           0.183099   \n\n        tbp_lv_symm_2axis_angle  tbp_lv_area_perim_ratio  average_diameter  \\\n1                            55                12.235290          0.960959   \n49                          105                22.662001          7.257971   \n76                           10                18.052941          6.183920   \n93                          140                14.665700          2.718808   \n107                         175                16.830977          7.949130   \n...                         ...                      ...               ...   \n400997                       15                14.928672          3.709470   \n401019                       25                15.091750          4.974337   \n401028                      140                18.823870          5.773835   \n401054                      100                17.842449          5.838999   \n401056                       40                13.050010          1.822856   \n\n        3D_distance  size_contrast  tbp_lv_nevi_confidence  \n1       1576.723962       1.338333            1.334303e-07  \n49      1073.046060       1.946836            9.964820e+01  \n76      1377.119802       1.068948            2.394399e+01  \n93       624.503235       1.555731            9.946209e+01  \n107     1036.419568       1.321503            9.902058e+01  \n...             ...            ...                     ...  \n400997   404.510962       1.108288            9.979950e+01  \n401019  1115.339450       1.241361            1.932614e+01  \n401028   594.330682       1.269736            6.467569e+01  \n401054  1197.740551       1.394015            9.936233e+01  \n401056  1071.999873       1.284692            5.994798e+01  \n\n[22058 rows x 25 columns]",
      "text/html": "<div>\n<style scoped>\n    .dataframe tbody tr th:only-of-type {\n        vertical-align: middle;\n    }\n\n    .dataframe tbody tr th {\n        vertical-align: top;\n    }\n\n    .dataframe thead th {\n        text-align: right;\n    }\n</style>\n<table border=\"1\" class=\"dataframe\">\n  <thead>\n    <tr style=\"text-align: right;\">\n      <th></th>\n      <th>age_approx</th>\n      <th>tbp_lv_perimeterMM</th>\n      <th>tbp_lv_areaMM2</th>\n      <th>tbp_lv_eccentricity</th>\n      <th>tbp_lv_A</th>\n      <th>tbp_lv_deltaA</th>\n      <th>tbp_lv_B</th>\n      <th>tbp_lv_deltaB</th>\n      <th>tbp_lv_L</th>\n      <th>tbp_lv_deltaL</th>\n      <th>...</th>\n      <th>tbp_lv_color_std_mean</th>\n      <th>tbp_lv_radial_color_std_max</th>\n      <th>tbp_lv_deltaLBnorm</th>\n      <th>tbp_lv_symm_2axis</th>\n      <th>tbp_lv_symm_2axis_angle</th>\n      <th>tbp_lv_area_perim_ratio</th>\n      <th>average_diameter</th>\n      <th>3D_distance</th>\n      <th>size_contrast</th>\n      <th>tbp_lv_nevi_confidence</th>\n    </tr>\n  </thead>\n  <tbody>\n    <tr>\n      <th>1</th>\n      <td>60.0</td>\n      <td>3.354148</td>\n      <td>0.919497</td>\n      <td>0.639885</td>\n      <td>31.712570</td>\n      <td>6.347830</td>\n      <td>26.331000</td>\n      <td>1.781713</td>\n      <td>48.861520</td>\n      <td>-6.500838</td>\n      <td>...</td>\n      <td>0.000000</td>\n      <td>0.000000</td>\n      <td>4.987244</td>\n      <td>0.285714</td>\n      <td>55</td>\n      <td>12.235290</td>\n      <td>0.960959</td>\n      <td>1576.723962</td>\n      <td>1.338333</td>\n      <td>1.334303e-07</td>\n    </tr>\n    <tr>\n      <th>49</th>\n      <td>40.0</td>\n      <td>26.919133</td>\n      <td>31.975980</td>\n      <td>0.900678</td>\n      <td>24.237019</td>\n      <td>9.945246</td>\n      <td>28.042227</td>\n      <td>1.076805</td>\n      <td>46.763747</td>\n      <td>-25.334512</td>\n      <td>...</td>\n      <td>3.947276</td>\n      <td>3.215515</td>\n      <td>15.996656</td>\n      <td>0.144565</td>\n      <td>105</td>\n      <td>22.662001</td>\n      <td>7.257971</td>\n      <td>1073.046060</td>\n      <td>1.946836</td>\n      <td>9.964820e+01</td>\n    </tr>\n    <tr>\n      <th>76</th>\n      <td>50.0</td>\n      <td>22.729299</td>\n      <td>28.617001</td>\n      <td>0.338695</td>\n      <td>19.600317</td>\n      <td>2.792177</td>\n      <td>29.830666</td>\n      <td>-1.369085</td>\n      <td>56.975435</td>\n      <td>-11.353676</td>\n      <td>...</td>\n      <td>1.522630</td>\n      <td>1.807261</td>\n      <td>7.462467</td>\n      <td>0.160248</td>\n      <td>10</td>\n      <td>18.052941</td>\n      <td>6.183920</td>\n      <td>1377.119802</td>\n      <td>1.068948</td>\n      <td>2.394399e+01</td>\n    </tr>\n    <tr>\n      <th>93</th>\n      <td>40.0</td>\n      <td>9.340242</td>\n      <td>5.948583</td>\n      <td>0.771271</td>\n      <td>18.007100</td>\n      <td>7.260954</td>\n      <td>24.833930</td>\n      <td>2.673692</td>\n      <td>35.715100</td>\n      <td>-13.454040</td>\n      <td>...</td>\n      <td>1.255051</td>\n      <td>1.006729</td>\n      <td>11.708370</td>\n      <td>0.190184</td>\n      <td>140</td>\n      <td>14.665700</td>\n      <td>2.718808</td>\n      <td>624.503235</td>\n      <td>1.555731</td>\n      <td>9.946209e+01</td>\n    </tr>\n    <tr>\n      <th>107</th>\n      <td>40.0</td>\n      <td>27.874004</td>\n      <td>46.162507</td>\n      <td>0.641768</td>\n      <td>21.315824</td>\n      <td>11.781624</td>\n      <td>30.914309</td>\n      <td>1.940967</td>\n      <td>46.968562</td>\n      <td>-14.629774</td>\n      <td>...</td>\n      <td>3.170209</td>\n      <td>3.187016</td>\n      <td>10.669963</td>\n      <td>0.117188</td>\n      <td>175</td>\n      <td>16.830977</td>\n      <td>7.949130</td>\n      <td>1036.419568</td>\n      <td>1.321503</td>\n      <td>9.902058e+01</td>\n    </tr>\n    <tr>\n      <th>...</th>\n      <td>...</td>\n      <td>...</td>\n      <td>...</td>\n      <td>...</td>\n      <td>...</td>\n      <td>...</td>\n      <td>...</td>\n      <td>...</td>\n      <td>...</td>\n      <td>...</td>\n      <td>...</td>\n      <td>...</td>\n      <td>...</td>\n      <td>...</td>\n      <td>...</td>\n      <td>...</td>\n      <td>...</td>\n      <td>...</td>\n      <td>...</td>\n      <td>...</td>\n      <td>...</td>\n    </tr>\n    <tr>\n      <th>400997</th>\n      <td>40.0</td>\n      <td>12.580907</td>\n      <td>10.602364</td>\n      <td>0.368088</td>\n      <td>16.600171</td>\n      <td>8.612198</td>\n      <td>24.960904</td>\n      <td>2.458680</td>\n      <td>33.987772</td>\n      <td>-14.868723</td>\n      <td>...</td>\n      <td>2.215048</td>\n      <td>1.429700</td>\n      <td>13.053903</td>\n      <td>0.173633</td>\n      <td>15</td>\n      <td>14.928672</td>\n      <td>3.709470</td>\n      <td>404.510962</td>\n      <td>1.108288</td>\n      <td>9.979950e+01</td>\n    </tr>\n    <tr>\n      <th>401019</th>\n      <td>50.0</td>\n      <td>17.244140</td>\n      <td>19.703510</td>\n      <td>0.602607</td>\n      <td>12.549400</td>\n      <td>2.753092</td>\n      <td>19.351570</td>\n      <td>-0.862427</td>\n      <td>47.683380</td>\n      <td>-21.763030</td>\n      <td>...</td>\n      <td>5.393046</td>\n      <td>5.922404</td>\n      <td>14.266840</td>\n      <td>0.087591</td>\n      <td>25</td>\n      <td>15.091750</td>\n      <td>4.974337</td>\n      <td>1115.339450</td>\n      <td>1.241361</td>\n      <td>1.932614e+01</td>\n    </tr>\n    <tr>\n      <th>401028</th>\n      <td>50.0</td>\n      <td>21.046520</td>\n      <td>23.531620</td>\n      <td>0.690787</td>\n      <td>17.290400</td>\n      <td>7.059696</td>\n      <td>31.807810</td>\n      <td>2.683314</td>\n      <td>46.497300</td>\n      <td>-9.201123</td>\n      <td>...</td>\n      <td>1.714663</td>\n      <td>1.654323</td>\n      <td>7.489153</td>\n      <td>0.272476</td>\n      <td>140</td>\n      <td>18.823870</td>\n      <td>5.773835</td>\n      <td>594.330682</td>\n      <td>1.269736</td>\n      <td>6.467569e+01</td>\n    </tr>\n    <tr>\n      <th>401054</th>\n      <td>70.0</td>\n      <td>20.210836</td>\n      <td>22.893601</td>\n      <td>0.744495</td>\n      <td>22.574335</td>\n      <td>7.629668</td>\n      <td>27.663259</td>\n      <td>0.896124</td>\n      <td>36.333547</td>\n      <td>-17.008450</td>\n      <td>...</td>\n      <td>2.579861</td>\n      <td>2.328066</td>\n      <td>13.498163</td>\n      <td>0.288920</td>\n      <td>100</td>\n      <td>17.842449</td>\n      <td>5.838999</td>\n      <td>1197.740551</td>\n      <td>1.394015</td>\n      <td>9.936233e+01</td>\n    </tr>\n    <tr>\n      <th>401056</th>\n      <td>65.0</td>\n      <td>5.999862</td>\n      <td>2.758491</td>\n      <td>0.649815</td>\n      <td>17.332567</td>\n      <td>4.968169</td>\n      <td>29.845326</td>\n      <td>3.345253</td>\n      <td>39.413663</td>\n      <td>-8.426838</td>\n      <td>...</td>\n      <td>0.498197</td>\n      <td>0.607554</td>\n      <td>7.842607</td>\n      <td>0.183099</td>\n      <td>40</td>\n      <td>13.050010</td>\n      <td>1.822856</td>\n      <td>1071.999873</td>\n      <td>1.284692</td>\n      <td>5.994798e+01</td>\n    </tr>\n  </tbody>\n</table>\n<p>22058 rows × 25 columns</p>\n</div>"
     },
     "execution_count": 96,
     "metadata": {},
     "output_type": "execute_result"
    }
   ],
   "source": [
    "df_train_non_categorical"
   ],
   "metadata": {
    "collapsed": false,
    "ExecuteTime": {
     "end_time": "2024-07-05T13:44:34.201831Z",
     "start_time": "2024-07-05T13:44:34.178996Z"
    }
   },
   "id": "93c6035155f9c00e",
   "execution_count": 96
  },
  {
   "cell_type": "markdown",
   "source": [
    "## Standardization for non categorcal columns"
   ],
   "metadata": {
    "collapsed": false
   },
   "id": "99fc864fee12e5a4"
  },
  {
   "cell_type": "code",
   "outputs": [],
   "source": [
    "from sklearn.preprocessing import StandardScaler\n",
    "\n",
    "# train test split\n",
    "from sklearn.model_selection import train_test_split"
   ],
   "metadata": {
    "collapsed": false,
    "ExecuteTime": {
     "end_time": "2024-07-05T13:44:47.422998Z",
     "start_time": "2024-07-05T13:44:47.418354Z"
    }
   },
   "id": "ccc0c67586f4c63b",
   "execution_count": 97
  },
  {
   "cell_type": "code",
   "outputs": [
    {
     "data": {
      "text/plain": "1         0\n49        0\n76        0\n93        0\n107       0\n         ..\n400997    0\n401019    0\n401028    0\n401054    0\n401056    0\nName: target, Length: 22058, dtype: int64"
     },
     "execution_count": 98,
     "metadata": {},
     "output_type": "execute_result"
    }
   ],
   "source": [
    "# get the train target\n",
    "df_train_meta_target = df_train_meta[df_train_meta['lesion_id'].notna()]['target']\n",
    "df_train_meta_target"
   ],
   "metadata": {
    "collapsed": false,
    "ExecuteTime": {
     "end_time": "2024-07-05T13:45:01.873527Z",
     "start_time": "2024-07-05T13:45:01.831766Z"
    }
   },
   "id": "b800a21ede1f7229",
   "execution_count": 98
  },
  {
   "cell_type": "code",
   "outputs": [
    {
     "data": {
      "text/plain": "           sex anatom_site_general tbp_lv_location_simple  age_approx  \\\n1         male           head/neck            Head & Neck        60.0   \n49      female     posterior torso             Torso Back        40.0   \n76        male     upper extremity               Left Arm        50.0   \n93      female     lower extremity              Right Leg        40.0   \n107     female     posterior torso             Torso Back        40.0   \n...        ...                 ...                    ...         ...   \n400997    male     lower extremity               Left Leg        40.0   \n401019  female      anterior torso            Torso Front        50.0   \n401028  female     lower extremity               Left Leg        50.0   \n401054    male      anterior torso            Torso Front        70.0   \n401056  female      anterior torso            Torso Front        65.0   \n\n        tbp_lv_perimeterMM  tbp_lv_areaMM2  tbp_lv_eccentricity   tbp_lv_A  \\\n1                 3.354148        0.919497             0.639885  31.712570   \n49               26.919133       31.975980             0.900678  24.237019   \n76               22.729299       28.617001             0.338695  19.600317   \n93                9.340242        5.948583             0.771271  18.007100   \n107              27.874004       46.162507             0.641768  21.315824   \n...                    ...             ...                  ...        ...   \n400997           12.580907       10.602364             0.368088  16.600171   \n401019           17.244140       19.703510             0.602607  12.549400   \n401028           21.046520       23.531620             0.690787  17.290400   \n401054           20.210836       22.893601             0.744495  22.574335   \n401056            5.999862        2.758491             0.649815  17.332567   \n\n        tbp_lv_deltaA   tbp_lv_B  ...  tbp_lv_color_std_mean  \\\n1            6.347830  26.331000  ...               0.000000   \n49           9.945246  28.042227  ...               3.947276   \n76           2.792177  29.830666  ...               1.522630   \n93           7.260954  24.833930  ...               1.255051   \n107         11.781624  30.914309  ...               3.170209   \n...               ...        ...  ...                    ...   \n400997       8.612198  24.960904  ...               2.215048   \n401019       2.753092  19.351570  ...               5.393046   \n401028       7.059696  31.807810  ...               1.714663   \n401054       7.629668  27.663259  ...               2.579861   \n401056       4.968169  29.845326  ...               0.498197   \n\n        tbp_lv_radial_color_std_max  tbp_lv_deltaLBnorm  tbp_lv_symm_2axis  \\\n1                          0.000000            4.987244           0.285714   \n49                         3.215515           15.996656           0.144565   \n76                         1.807261            7.462467           0.160248   \n93                         1.006729           11.708370           0.190184   \n107                        3.187016           10.669963           0.117188   \n...                             ...                 ...                ...   \n400997                     1.429700           13.053903           0.173633   \n401019                     5.922404           14.266840           0.087591   \n401028                     1.654323            7.489153           0.272476   \n401054                     2.328066           13.498163           0.288920   \n401056                     0.607554            7.842607           0.183099   \n\n        tbp_lv_symm_2axis_angle  tbp_lv_area_perim_ratio  average_diameter  \\\n1                            55                12.235290          0.960959   \n49                          105                22.662001          7.257971   \n76                           10                18.052941          6.183920   \n93                          140                14.665700          2.718808   \n107                         175                16.830977          7.949130   \n...                         ...                      ...               ...   \n400997                       15                14.928672          3.709470   \n401019                       25                15.091750          4.974337   \n401028                      140                18.823870          5.773835   \n401054                      100                17.842449          5.838999   \n401056                       40                13.050010          1.822856   \n\n        3D_distance  size_contrast  tbp_lv_nevi_confidence  \n1       1576.723962       1.338333            1.334303e-07  \n49      1073.046060       1.946836            9.964820e+01  \n76      1377.119802       1.068948            2.394399e+01  \n93       624.503235       1.555731            9.946209e+01  \n107     1036.419568       1.321503            9.902058e+01  \n...             ...            ...                     ...  \n400997   404.510962       1.108288            9.979950e+01  \n401019  1115.339450       1.241361            1.932614e+01  \n401028   594.330682       1.269736            6.467569e+01  \n401054  1197.740551       1.394015            9.936233e+01  \n401056  1071.999873       1.284692            5.994798e+01  \n\n[22058 rows x 28 columns]",
      "text/html": "<div>\n<style scoped>\n    .dataframe tbody tr th:only-of-type {\n        vertical-align: middle;\n    }\n\n    .dataframe tbody tr th {\n        vertical-align: top;\n    }\n\n    .dataframe thead th {\n        text-align: right;\n    }\n</style>\n<table border=\"1\" class=\"dataframe\">\n  <thead>\n    <tr style=\"text-align: right;\">\n      <th></th>\n      <th>sex</th>\n      <th>anatom_site_general</th>\n      <th>tbp_lv_location_simple</th>\n      <th>age_approx</th>\n      <th>tbp_lv_perimeterMM</th>\n      <th>tbp_lv_areaMM2</th>\n      <th>tbp_lv_eccentricity</th>\n      <th>tbp_lv_A</th>\n      <th>tbp_lv_deltaA</th>\n      <th>tbp_lv_B</th>\n      <th>...</th>\n      <th>tbp_lv_color_std_mean</th>\n      <th>tbp_lv_radial_color_std_max</th>\n      <th>tbp_lv_deltaLBnorm</th>\n      <th>tbp_lv_symm_2axis</th>\n      <th>tbp_lv_symm_2axis_angle</th>\n      <th>tbp_lv_area_perim_ratio</th>\n      <th>average_diameter</th>\n      <th>3D_distance</th>\n      <th>size_contrast</th>\n      <th>tbp_lv_nevi_confidence</th>\n    </tr>\n  </thead>\n  <tbody>\n    <tr>\n      <th>1</th>\n      <td>male</td>\n      <td>head/neck</td>\n      <td>Head &amp; Neck</td>\n      <td>60.0</td>\n      <td>3.354148</td>\n      <td>0.919497</td>\n      <td>0.639885</td>\n      <td>31.712570</td>\n      <td>6.347830</td>\n      <td>26.331000</td>\n      <td>...</td>\n      <td>0.000000</td>\n      <td>0.000000</td>\n      <td>4.987244</td>\n      <td>0.285714</td>\n      <td>55</td>\n      <td>12.235290</td>\n      <td>0.960959</td>\n      <td>1576.723962</td>\n      <td>1.338333</td>\n      <td>1.334303e-07</td>\n    </tr>\n    <tr>\n      <th>49</th>\n      <td>female</td>\n      <td>posterior torso</td>\n      <td>Torso Back</td>\n      <td>40.0</td>\n      <td>26.919133</td>\n      <td>31.975980</td>\n      <td>0.900678</td>\n      <td>24.237019</td>\n      <td>9.945246</td>\n      <td>28.042227</td>\n      <td>...</td>\n      <td>3.947276</td>\n      <td>3.215515</td>\n      <td>15.996656</td>\n      <td>0.144565</td>\n      <td>105</td>\n      <td>22.662001</td>\n      <td>7.257971</td>\n      <td>1073.046060</td>\n      <td>1.946836</td>\n      <td>9.964820e+01</td>\n    </tr>\n    <tr>\n      <th>76</th>\n      <td>male</td>\n      <td>upper extremity</td>\n      <td>Left Arm</td>\n      <td>50.0</td>\n      <td>22.729299</td>\n      <td>28.617001</td>\n      <td>0.338695</td>\n      <td>19.600317</td>\n      <td>2.792177</td>\n      <td>29.830666</td>\n      <td>...</td>\n      <td>1.522630</td>\n      <td>1.807261</td>\n      <td>7.462467</td>\n      <td>0.160248</td>\n      <td>10</td>\n      <td>18.052941</td>\n      <td>6.183920</td>\n      <td>1377.119802</td>\n      <td>1.068948</td>\n      <td>2.394399e+01</td>\n    </tr>\n    <tr>\n      <th>93</th>\n      <td>female</td>\n      <td>lower extremity</td>\n      <td>Right Leg</td>\n      <td>40.0</td>\n      <td>9.340242</td>\n      <td>5.948583</td>\n      <td>0.771271</td>\n      <td>18.007100</td>\n      <td>7.260954</td>\n      <td>24.833930</td>\n      <td>...</td>\n      <td>1.255051</td>\n      <td>1.006729</td>\n      <td>11.708370</td>\n      <td>0.190184</td>\n      <td>140</td>\n      <td>14.665700</td>\n      <td>2.718808</td>\n      <td>624.503235</td>\n      <td>1.555731</td>\n      <td>9.946209e+01</td>\n    </tr>\n    <tr>\n      <th>107</th>\n      <td>female</td>\n      <td>posterior torso</td>\n      <td>Torso Back</td>\n      <td>40.0</td>\n      <td>27.874004</td>\n      <td>46.162507</td>\n      <td>0.641768</td>\n      <td>21.315824</td>\n      <td>11.781624</td>\n      <td>30.914309</td>\n      <td>...</td>\n      <td>3.170209</td>\n      <td>3.187016</td>\n      <td>10.669963</td>\n      <td>0.117188</td>\n      <td>175</td>\n      <td>16.830977</td>\n      <td>7.949130</td>\n      <td>1036.419568</td>\n      <td>1.321503</td>\n      <td>9.902058e+01</td>\n    </tr>\n    <tr>\n      <th>...</th>\n      <td>...</td>\n      <td>...</td>\n      <td>...</td>\n      <td>...</td>\n      <td>...</td>\n      <td>...</td>\n      <td>...</td>\n      <td>...</td>\n      <td>...</td>\n      <td>...</td>\n      <td>...</td>\n      <td>...</td>\n      <td>...</td>\n      <td>...</td>\n      <td>...</td>\n      <td>...</td>\n      <td>...</td>\n      <td>...</td>\n      <td>...</td>\n      <td>...</td>\n      <td>...</td>\n    </tr>\n    <tr>\n      <th>400997</th>\n      <td>male</td>\n      <td>lower extremity</td>\n      <td>Left Leg</td>\n      <td>40.0</td>\n      <td>12.580907</td>\n      <td>10.602364</td>\n      <td>0.368088</td>\n      <td>16.600171</td>\n      <td>8.612198</td>\n      <td>24.960904</td>\n      <td>...</td>\n      <td>2.215048</td>\n      <td>1.429700</td>\n      <td>13.053903</td>\n      <td>0.173633</td>\n      <td>15</td>\n      <td>14.928672</td>\n      <td>3.709470</td>\n      <td>404.510962</td>\n      <td>1.108288</td>\n      <td>9.979950e+01</td>\n    </tr>\n    <tr>\n      <th>401019</th>\n      <td>female</td>\n      <td>anterior torso</td>\n      <td>Torso Front</td>\n      <td>50.0</td>\n      <td>17.244140</td>\n      <td>19.703510</td>\n      <td>0.602607</td>\n      <td>12.549400</td>\n      <td>2.753092</td>\n      <td>19.351570</td>\n      <td>...</td>\n      <td>5.393046</td>\n      <td>5.922404</td>\n      <td>14.266840</td>\n      <td>0.087591</td>\n      <td>25</td>\n      <td>15.091750</td>\n      <td>4.974337</td>\n      <td>1115.339450</td>\n      <td>1.241361</td>\n      <td>1.932614e+01</td>\n    </tr>\n    <tr>\n      <th>401028</th>\n      <td>female</td>\n      <td>lower extremity</td>\n      <td>Left Leg</td>\n      <td>50.0</td>\n      <td>21.046520</td>\n      <td>23.531620</td>\n      <td>0.690787</td>\n      <td>17.290400</td>\n      <td>7.059696</td>\n      <td>31.807810</td>\n      <td>...</td>\n      <td>1.714663</td>\n      <td>1.654323</td>\n      <td>7.489153</td>\n      <td>0.272476</td>\n      <td>140</td>\n      <td>18.823870</td>\n      <td>5.773835</td>\n      <td>594.330682</td>\n      <td>1.269736</td>\n      <td>6.467569e+01</td>\n    </tr>\n    <tr>\n      <th>401054</th>\n      <td>male</td>\n      <td>anterior torso</td>\n      <td>Torso Front</td>\n      <td>70.0</td>\n      <td>20.210836</td>\n      <td>22.893601</td>\n      <td>0.744495</td>\n      <td>22.574335</td>\n      <td>7.629668</td>\n      <td>27.663259</td>\n      <td>...</td>\n      <td>2.579861</td>\n      <td>2.328066</td>\n      <td>13.498163</td>\n      <td>0.288920</td>\n      <td>100</td>\n      <td>17.842449</td>\n      <td>5.838999</td>\n      <td>1197.740551</td>\n      <td>1.394015</td>\n      <td>9.936233e+01</td>\n    </tr>\n    <tr>\n      <th>401056</th>\n      <td>female</td>\n      <td>anterior torso</td>\n      <td>Torso Front</td>\n      <td>65.0</td>\n      <td>5.999862</td>\n      <td>2.758491</td>\n      <td>0.649815</td>\n      <td>17.332567</td>\n      <td>4.968169</td>\n      <td>29.845326</td>\n      <td>...</td>\n      <td>0.498197</td>\n      <td>0.607554</td>\n      <td>7.842607</td>\n      <td>0.183099</td>\n      <td>40</td>\n      <td>13.050010</td>\n      <td>1.822856</td>\n      <td>1071.999873</td>\n      <td>1.284692</td>\n      <td>5.994798e+01</td>\n    </tr>\n  </tbody>\n</table>\n<p>22058 rows × 28 columns</p>\n</div>"
     },
     "execution_count": 99,
     "metadata": {},
     "output_type": "execute_result"
    }
   ],
   "source": [
    "df_train_engineered_filled_drop_isic"
   ],
   "metadata": {
    "collapsed": false,
    "ExecuteTime": {
     "end_time": "2024-07-05T13:45:25.026611Z",
     "start_time": "2024-07-05T13:45:25.000083Z"
    }
   },
   "id": "74aa3969838e84d9",
   "execution_count": 99
  },
  {
   "cell_type": "code",
   "outputs": [],
   "source": [
    "# train test split from train data\n",
    "X_train, X_val, y_train, y_val = train_test_split(df_train_engineered_filled_drop_isic, df_train_meta_target, test_size=0.2, random_state=42)"
   ],
   "metadata": {
    "collapsed": false,
    "ExecuteTime": {
     "end_time": "2024-07-05T13:45:39.608970Z",
     "start_time": "2024-07-05T13:45:39.598534Z"
    }
   },
   "id": "65783bc9a1909f0b",
   "execution_count": 100
  },
  {
   "cell_type": "code",
   "outputs": [],
   "source": [
    "X_train_non_categorical = X_train.drop(columns=categorical_columns).copy()\n",
    "X_val_non_categorical = X_val.drop(columns=categorical_columns).copy()"
   ],
   "metadata": {
    "collapsed": false,
    "ExecuteTime": {
     "end_time": "2024-07-05T13:46:11.446454Z",
     "start_time": "2024-07-05T13:46:11.435555Z"
    }
   },
   "id": "2894b4fb4f115294",
   "execution_count": 101
  },
  {
   "cell_type": "code",
   "outputs": [],
   "source": [
    "# standardization\n",
    "scaler = StandardScaler()\n",
    "scaler.fit(X_train_non_categorical)\n",
    "\n",
    "X_train_non_categorical_scaled = scaler.transform(X_train_non_categorical)\n",
    "X_val_non_categorical_scaled = scaler.transform(X_val_non_categorical)\n",
    "\n",
    "X_train_non_categorical_scaled = pd.DataFrame(X_train_non_categorical_scaled, columns=X_train_non_categorical.columns)\n",
    "X_val_non_categorical_scaled = pd.DataFrame(X_val_non_categorical_scaled, columns=X_val_non_categorical.columns)\n",
    "\n",
    "X_train_non_categorical_scaled.index = X_train_non_categorical.index\n",
    "X_val_non_categorical_scaled.index = X_val_non_categorical.index"
   ],
   "metadata": {
    "collapsed": false,
    "ExecuteTime": {
     "end_time": "2024-07-05T13:48:04.745598Z",
     "start_time": "2024-07-05T13:48:04.725874Z"
    }
   },
   "id": "d2c949d2c58a5059",
   "execution_count": 104
  },
  {
   "cell_type": "code",
   "outputs": [],
   "source": [
    "# concat the one hot encoded and scaled non categorical columns\n",
    "X_train_final = pd.concat([X_train_non_categorical_scaled, train_encoded.loc[X_train_non_categorical.index]], axis=1)\n",
    "X_val_final = pd.concat([X_val_non_categorical_scaled, train_encoded.loc[X_val_non_categorical.index]], axis=1)"
   ],
   "metadata": {
    "collapsed": false,
    "ExecuteTime": {
     "end_time": "2024-07-05T13:48:39.238439Z",
     "start_time": "2024-07-05T13:48:39.226800Z"
    }
   },
   "id": "49ee3f984fb5518a",
   "execution_count": 105
  },
  {
   "cell_type": "markdown",
   "source": [
    "evaluation function"
   ],
   "metadata": {
    "collapsed": false
   },
   "id": "33faeb1e43f1d55f"
  },
  {
   "cell_type": "code",
   "outputs": [],
   "source": [
    "from sklearn.metrics import roc_auc_score\n",
    "def comp_score(solution: pd.DataFrame, submission: pd.DataFrame, row_id_column_name: str, min_tpr: float=0.80):\n",
    "    v_gt = abs(np.asarray(solution.values)-1)\n",
    "    v_pred = np.array([1.0 - x for x in submission.values])\n",
    "    max_fpr = abs(1-min_tpr)\n",
    "    partial_auc_scaled = roc_auc_score(v_gt, v_pred, max_fpr=max_fpr)\n",
    "    # change scale from [0.5, 1.0] to [0.5 * max_fpr**2, max_fpr]\n",
    "    # https://math.stackexchange.com/questions/914823/shift-numbers-into-a-different-range\n",
    "    partial_auc = 0.5 * max_fpr**2 + (max_fpr - 0.5 * max_fpr**2) / (1.0 - 0.5) * (partial_auc_scaled - 0.5)\n",
    "    return partial_auc"
   ],
   "metadata": {
    "collapsed": false,
    "ExecuteTime": {
     "end_time": "2024-07-05T13:49:09.475757Z",
     "start_time": "2024-07-05T13:49:09.470045Z"
    }
   },
   "id": "a3fa122667052937",
   "execution_count": 106
  },
  {
   "cell_type": "markdown",
   "source": [
    "## Model training"
   ],
   "metadata": {
    "collapsed": false
   },
   "id": "1d4e9f819633eb6f"
  },
  {
   "cell_type": "code",
   "outputs": [],
   "source": [
    "from sklearn.ensemble import RandomForestClassifier\n",
    "import lightgbm as lgb\n",
    "from xgboost import XGBClassifier"
   ],
   "metadata": {
    "collapsed": false,
    "ExecuteTime": {
     "end_time": "2024-07-05T13:49:56.080660Z",
     "start_time": "2024-07-05T13:49:55.836662Z"
    }
   },
   "id": "e264b26b29f1a971",
   "execution_count": 108
  },
  {
   "cell_type": "code",
   "outputs": [],
   "source": [
    "lgb_params = {\n",
    "    'objective': 'binary',\n",
    "    \"random_state\": 42,\n",
    "    \"n_estimators\": 500,\n",
    "    'learning_rate': 0.01,\n",
    "    'bagging_freq': 1,\n",
    "    'pos_bagging_fraction': 0.75,\n",
    "    'neg_bagging_fraction': 0.05,\n",
    "    'feature_fraction': 0.8,\n",
    "    'lambda_l1': 0.25,\n",
    "    'lambda_l2': 0.25,\n",
    "    \"verbosity\": -1,\n",
    "    # \"extra_trees\": True\n",
    "}"
   ],
   "metadata": {
    "collapsed": false,
    "ExecuteTime": {
     "end_time": "2024-07-05T14:37:36.823859Z",
     "start_time": "2024-07-05T14:37:36.819537Z"
    }
   },
   "id": "8fc87bfd41f5659a",
   "execution_count": 243
  },
  {
   "cell_type": "code",
   "outputs": [],
   "source": [
    "lgb_model = lgb.LGBMClassifier(**lgb_params)"
   ],
   "metadata": {
    "collapsed": false,
    "ExecuteTime": {
     "end_time": "2024-07-05T14:37:37.162601Z",
     "start_time": "2024-07-05T14:37:37.159506Z"
    }
   },
   "id": "8a3888eb19307598",
   "execution_count": 244
  },
  {
   "cell_type": "code",
   "outputs": [
    {
     "data": {
      "text/plain": "LGBMClassifier(bagging_freq=1, feature_fraction=0.8, lambda_l1=0.25,\n               lambda_l2=0.25, learning_rate=0.01, n_estimators=500,\n               neg_bagging_fraction=0.05, objective='binary',\n               pos_bagging_fraction=0.75, random_state=42, verbosity=-1)",
      "text/html": "<style>#sk-container-id-29 {color: black;}#sk-container-id-29 pre{padding: 0;}#sk-container-id-29 div.sk-toggleable {background-color: white;}#sk-container-id-29 label.sk-toggleable__label {cursor: pointer;display: block;width: 100%;margin-bottom: 0;padding: 0.3em;box-sizing: border-box;text-align: center;}#sk-container-id-29 label.sk-toggleable__label-arrow:before {content: \"▸\";float: left;margin-right: 0.25em;color: #696969;}#sk-container-id-29 label.sk-toggleable__label-arrow:hover:before {color: black;}#sk-container-id-29 div.sk-estimator:hover label.sk-toggleable__label-arrow:before {color: black;}#sk-container-id-29 div.sk-toggleable__content {max-height: 0;max-width: 0;overflow: hidden;text-align: left;background-color: #f0f8ff;}#sk-container-id-29 div.sk-toggleable__content pre {margin: 0.2em;color: black;border-radius: 0.25em;background-color: #f0f8ff;}#sk-container-id-29 input.sk-toggleable__control:checked~div.sk-toggleable__content {max-height: 200px;max-width: 100%;overflow: auto;}#sk-container-id-29 input.sk-toggleable__control:checked~label.sk-toggleable__label-arrow:before {content: \"▾\";}#sk-container-id-29 div.sk-estimator input.sk-toggleable__control:checked~label.sk-toggleable__label {background-color: #d4ebff;}#sk-container-id-29 div.sk-label input.sk-toggleable__control:checked~label.sk-toggleable__label {background-color: #d4ebff;}#sk-container-id-29 input.sk-hidden--visually {border: 0;clip: rect(1px 1px 1px 1px);clip: rect(1px, 1px, 1px, 1px);height: 1px;margin: -1px;overflow: hidden;padding: 0;position: absolute;width: 1px;}#sk-container-id-29 div.sk-estimator {font-family: monospace;background-color: #f0f8ff;border: 1px dotted black;border-radius: 0.25em;box-sizing: border-box;margin-bottom: 0.5em;}#sk-container-id-29 div.sk-estimator:hover {background-color: #d4ebff;}#sk-container-id-29 div.sk-parallel-item::after {content: \"\";width: 100%;border-bottom: 1px solid gray;flex-grow: 1;}#sk-container-id-29 div.sk-label:hover label.sk-toggleable__label {background-color: #d4ebff;}#sk-container-id-29 div.sk-serial::before {content: \"\";position: absolute;border-left: 1px solid gray;box-sizing: border-box;top: 0;bottom: 0;left: 50%;z-index: 0;}#sk-container-id-29 div.sk-serial {display: flex;flex-direction: column;align-items: center;background-color: white;padding-right: 0.2em;padding-left: 0.2em;position: relative;}#sk-container-id-29 div.sk-item {position: relative;z-index: 1;}#sk-container-id-29 div.sk-parallel {display: flex;align-items: stretch;justify-content: center;background-color: white;position: relative;}#sk-container-id-29 div.sk-item::before, #sk-container-id-29 div.sk-parallel-item::before {content: \"\";position: absolute;border-left: 1px solid gray;box-sizing: border-box;top: 0;bottom: 0;left: 50%;z-index: -1;}#sk-container-id-29 div.sk-parallel-item {display: flex;flex-direction: column;z-index: 1;position: relative;background-color: white;}#sk-container-id-29 div.sk-parallel-item:first-child::after {align-self: flex-end;width: 50%;}#sk-container-id-29 div.sk-parallel-item:last-child::after {align-self: flex-start;width: 50%;}#sk-container-id-29 div.sk-parallel-item:only-child::after {width: 0;}#sk-container-id-29 div.sk-dashed-wrapped {border: 1px dashed gray;margin: 0 0.4em 0.5em 0.4em;box-sizing: border-box;padding-bottom: 0.4em;background-color: white;}#sk-container-id-29 div.sk-label label {font-family: monospace;font-weight: bold;display: inline-block;line-height: 1.2em;}#sk-container-id-29 div.sk-label-container {text-align: center;}#sk-container-id-29 div.sk-container {/* jupyter's `normalize.less` sets `[hidden] { display: none; }` but bootstrap.min.css set `[hidden] { display: none !important; }` so we also need the `!important` here to be able to override the default hidden behavior on the sphinx rendered scikit-learn.org. See: https://github.com/scikit-learn/scikit-learn/issues/21755 */display: inline-block !important;position: relative;}#sk-container-id-29 div.sk-text-repr-fallback {display: none;}</style><div id=\"sk-container-id-29\" class=\"sk-top-container\"><div class=\"sk-text-repr-fallback\"><pre>LGBMClassifier(bagging_freq=1, feature_fraction=0.8, lambda_l1=0.25,\n               lambda_l2=0.25, learning_rate=0.01, n_estimators=500,\n               neg_bagging_fraction=0.05, objective=&#x27;binary&#x27;,\n               pos_bagging_fraction=0.75, random_state=42, verbosity=-1)</pre><b>In a Jupyter environment, please rerun this cell to show the HTML representation or trust the notebook. <br />On GitHub, the HTML representation is unable to render, please try loading this page with nbviewer.org.</b></div><div class=\"sk-container\" hidden><div class=\"sk-item\"><div class=\"sk-estimator sk-toggleable\"><input class=\"sk-toggleable__control sk-hidden--visually\" id=\"sk-estimator-id-29\" type=\"checkbox\" checked><label for=\"sk-estimator-id-29\" class=\"sk-toggleable__label sk-toggleable__label-arrow\">LGBMClassifier</label><div class=\"sk-toggleable__content\"><pre>LGBMClassifier(bagging_freq=1, feature_fraction=0.8, lambda_l1=0.25,\n               lambda_l2=0.25, learning_rate=0.01, n_estimators=500,\n               neg_bagging_fraction=0.05, objective=&#x27;binary&#x27;,\n               pos_bagging_fraction=0.75, random_state=42, verbosity=-1)</pre></div></div></div></div></div>"
     },
     "execution_count": 245,
     "metadata": {},
     "output_type": "execute_result"
    }
   ],
   "source": [
    "lgb_model.fit(X_train_final, y_train)"
   ],
   "metadata": {
    "collapsed": false,
    "ExecuteTime": {
     "end_time": "2024-07-05T14:37:38.897352Z",
     "start_time": "2024-07-05T14:37:37.508926Z"
    }
   },
   "id": "2a456ac126b39fcd",
   "execution_count": 245
  },
  {
   "cell_type": "code",
   "outputs": [
    {
     "data": {
      "text/plain": "0.11379965212452518"
     },
     "execution_count": 246,
     "metadata": {},
     "output_type": "execute_result"
    }
   ],
   "source": [
    "# predict on validation set\n",
    "y_val_pred = lgb_model.predict_proba(X_val_final)[:,1]\n",
    "\n",
    "# the score\n",
    "score = comp_score(y_val, pd.DataFrame(y_val_pred, index=y_val.index, columns=['target']), '')\n",
    "score"
   ],
   "metadata": {
    "collapsed": false,
    "ExecuteTime": {
     "end_time": "2024-07-05T14:37:38.996457Z",
     "start_time": "2024-07-05T14:37:38.899326Z"
    }
   },
   "id": "3e88d93d06bcd3d1",
   "execution_count": 246
  },
  {
   "cell_type": "markdown",
   "source": [
    "https://stackoverflow.com/questions/45815708/what-are-different-options-for-objective-functions-available-in-xgboost-xgbclass "
   ],
   "metadata": {
    "collapsed": false
   },
   "id": "606af4972a5202a4"
  },
  {
   "cell_type": "code",
   "outputs": [],
   "source": [
    "xgb_params = {\n",
    "    'objective': 'binary:logistic',\n",
    "    'random_state': 42,\n",
    "    'n_estimators': 500,\n",
    "    'learning_rate': 0.04,\n",
    "    'reg_alpha':1,\n",
    "    'reg_lambda':1,\n",
    "    'max_depth': 15,\n",
    "    'booster':'gbtree',\n",
    "    'eval_metric':'auc',\n",
    "}"
   ],
   "metadata": {
    "collapsed": false,
    "ExecuteTime": {
     "end_time": "2024-07-05T14:10:22.084175Z",
     "start_time": "2024-07-05T14:10:22.079980Z"
    }
   },
   "id": "61d393fa3f4762a5",
   "execution_count": 222
  },
  {
   "cell_type": "code",
   "outputs": [],
   "source": [
    "xgb_model = XGBClassifier(**xgb_params)\n",
    "# xgb_model = XGBClassifier()"
   ],
   "metadata": {
    "collapsed": false,
    "ExecuteTime": {
     "end_time": "2024-07-05T14:10:22.410908Z",
     "start_time": "2024-07-05T14:10:22.407151Z"
    }
   },
   "id": "a56c9eebcaab3a30",
   "execution_count": 223
  },
  {
   "cell_type": "code",
   "outputs": [
    {
     "data": {
      "text/plain": "XGBClassifier(base_score=None, booster='gbtree', callbacks=None,\n              colsample_bylevel=None, colsample_bynode=None,\n              colsample_bytree=None, device=None, early_stopping_rounds=None,\n              enable_categorical=False, eval_metric='auc', feature_types=None,\n              gamma=None, grow_policy=None, importance_type=None,\n              interaction_constraints=None, learning_rate=0.04, max_bin=None,\n              max_cat_threshold=None, max_cat_to_onehot=None,\n              max_delta_step=None, max_depth=15, max_leaves=None,\n              min_child_weight=None, missing=nan, monotone_constraints=None,\n              multi_strategy=None, n_estimators=500, n_jobs=None,\n              num_parallel_tree=None, random_state=42, ...)",
      "text/html": "<style>#sk-container-id-25 {color: black;}#sk-container-id-25 pre{padding: 0;}#sk-container-id-25 div.sk-toggleable {background-color: white;}#sk-container-id-25 label.sk-toggleable__label {cursor: pointer;display: block;width: 100%;margin-bottom: 0;padding: 0.3em;box-sizing: border-box;text-align: center;}#sk-container-id-25 label.sk-toggleable__label-arrow:before {content: \"▸\";float: left;margin-right: 0.25em;color: #696969;}#sk-container-id-25 label.sk-toggleable__label-arrow:hover:before {color: black;}#sk-container-id-25 div.sk-estimator:hover label.sk-toggleable__label-arrow:before {color: black;}#sk-container-id-25 div.sk-toggleable__content {max-height: 0;max-width: 0;overflow: hidden;text-align: left;background-color: #f0f8ff;}#sk-container-id-25 div.sk-toggleable__content pre {margin: 0.2em;color: black;border-radius: 0.25em;background-color: #f0f8ff;}#sk-container-id-25 input.sk-toggleable__control:checked~div.sk-toggleable__content {max-height: 200px;max-width: 100%;overflow: auto;}#sk-container-id-25 input.sk-toggleable__control:checked~label.sk-toggleable__label-arrow:before {content: \"▾\";}#sk-container-id-25 div.sk-estimator input.sk-toggleable__control:checked~label.sk-toggleable__label {background-color: #d4ebff;}#sk-container-id-25 div.sk-label input.sk-toggleable__control:checked~label.sk-toggleable__label {background-color: #d4ebff;}#sk-container-id-25 input.sk-hidden--visually {border: 0;clip: rect(1px 1px 1px 1px);clip: rect(1px, 1px, 1px, 1px);height: 1px;margin: -1px;overflow: hidden;padding: 0;position: absolute;width: 1px;}#sk-container-id-25 div.sk-estimator {font-family: monospace;background-color: #f0f8ff;border: 1px dotted black;border-radius: 0.25em;box-sizing: border-box;margin-bottom: 0.5em;}#sk-container-id-25 div.sk-estimator:hover {background-color: #d4ebff;}#sk-container-id-25 div.sk-parallel-item::after {content: \"\";width: 100%;border-bottom: 1px solid gray;flex-grow: 1;}#sk-container-id-25 div.sk-label:hover label.sk-toggleable__label {background-color: #d4ebff;}#sk-container-id-25 div.sk-serial::before {content: \"\";position: absolute;border-left: 1px solid gray;box-sizing: border-box;top: 0;bottom: 0;left: 50%;z-index: 0;}#sk-container-id-25 div.sk-serial {display: flex;flex-direction: column;align-items: center;background-color: white;padding-right: 0.2em;padding-left: 0.2em;position: relative;}#sk-container-id-25 div.sk-item {position: relative;z-index: 1;}#sk-container-id-25 div.sk-parallel {display: flex;align-items: stretch;justify-content: center;background-color: white;position: relative;}#sk-container-id-25 div.sk-item::before, #sk-container-id-25 div.sk-parallel-item::before {content: \"\";position: absolute;border-left: 1px solid gray;box-sizing: border-box;top: 0;bottom: 0;left: 50%;z-index: -1;}#sk-container-id-25 div.sk-parallel-item {display: flex;flex-direction: column;z-index: 1;position: relative;background-color: white;}#sk-container-id-25 div.sk-parallel-item:first-child::after {align-self: flex-end;width: 50%;}#sk-container-id-25 div.sk-parallel-item:last-child::after {align-self: flex-start;width: 50%;}#sk-container-id-25 div.sk-parallel-item:only-child::after {width: 0;}#sk-container-id-25 div.sk-dashed-wrapped {border: 1px dashed gray;margin: 0 0.4em 0.5em 0.4em;box-sizing: border-box;padding-bottom: 0.4em;background-color: white;}#sk-container-id-25 div.sk-label label {font-family: monospace;font-weight: bold;display: inline-block;line-height: 1.2em;}#sk-container-id-25 div.sk-label-container {text-align: center;}#sk-container-id-25 div.sk-container {/* jupyter's `normalize.less` sets `[hidden] { display: none; }` but bootstrap.min.css set `[hidden] { display: none !important; }` so we also need the `!important` here to be able to override the default hidden behavior on the sphinx rendered scikit-learn.org. See: https://github.com/scikit-learn/scikit-learn/issues/21755 */display: inline-block !important;position: relative;}#sk-container-id-25 div.sk-text-repr-fallback {display: none;}</style><div id=\"sk-container-id-25\" class=\"sk-top-container\"><div class=\"sk-text-repr-fallback\"><pre>XGBClassifier(base_score=None, booster=&#x27;gbtree&#x27;, callbacks=None,\n              colsample_bylevel=None, colsample_bynode=None,\n              colsample_bytree=None, device=None, early_stopping_rounds=None,\n              enable_categorical=False, eval_metric=&#x27;auc&#x27;, feature_types=None,\n              gamma=None, grow_policy=None, importance_type=None,\n              interaction_constraints=None, learning_rate=0.04, max_bin=None,\n              max_cat_threshold=None, max_cat_to_onehot=None,\n              max_delta_step=None, max_depth=15, max_leaves=None,\n              min_child_weight=None, missing=nan, monotone_constraints=None,\n              multi_strategy=None, n_estimators=500, n_jobs=None,\n              num_parallel_tree=None, random_state=42, ...)</pre><b>In a Jupyter environment, please rerun this cell to show the HTML representation or trust the notebook. <br />On GitHub, the HTML representation is unable to render, please try loading this page with nbviewer.org.</b></div><div class=\"sk-container\" hidden><div class=\"sk-item\"><div class=\"sk-estimator sk-toggleable\"><input class=\"sk-toggleable__control sk-hidden--visually\" id=\"sk-estimator-id-25\" type=\"checkbox\" checked><label for=\"sk-estimator-id-25\" class=\"sk-toggleable__label sk-toggleable__label-arrow\">XGBClassifier</label><div class=\"sk-toggleable__content\"><pre>XGBClassifier(base_score=None, booster=&#x27;gbtree&#x27;, callbacks=None,\n              colsample_bylevel=None, colsample_bynode=None,\n              colsample_bytree=None, device=None, early_stopping_rounds=None,\n              enable_categorical=False, eval_metric=&#x27;auc&#x27;, feature_types=None,\n              gamma=None, grow_policy=None, importance_type=None,\n              interaction_constraints=None, learning_rate=0.04, max_bin=None,\n              max_cat_threshold=None, max_cat_to_onehot=None,\n              max_delta_step=None, max_depth=15, max_leaves=None,\n              min_child_weight=None, missing=nan, monotone_constraints=None,\n              multi_strategy=None, n_estimators=500, n_jobs=None,\n              num_parallel_tree=None, random_state=42, ...)</pre></div></div></div></div></div>"
     },
     "execution_count": 224,
     "metadata": {},
     "output_type": "execute_result"
    }
   ],
   "source": [
    "xgb_model.fit(X_train_final, y_train)"
   ],
   "metadata": {
    "collapsed": false,
    "ExecuteTime": {
     "end_time": "2024-07-05T14:10:25.982503Z",
     "start_time": "2024-07-05T14:10:22.777704Z"
    }
   },
   "id": "8864f9f8b3ed9a99",
   "execution_count": 224
  },
  {
   "cell_type": "code",
   "outputs": [],
   "source": [
    "# predict on validation set\n",
    "y_val_pred_xgb = xgb_model.predict_proba(X_val_final)[:,1]"
   ],
   "metadata": {
    "collapsed": false,
    "ExecuteTime": {
     "end_time": "2024-07-05T14:10:26.023349Z",
     "start_time": "2024-07-05T14:10:25.983500Z"
    }
   },
   "id": "fab600c7c105667d",
   "execution_count": 225
  },
  {
   "cell_type": "code",
   "outputs": [
    {
     "data": {
      "text/plain": "0.10799166992060391"
     },
     "execution_count": 226,
     "metadata": {},
     "output_type": "execute_result"
    }
   ],
   "source": [
    "# the score\n",
    "score_xgb = comp_score(y_val, pd.DataFrame(y_val_pred_xgb, index=y_val.index, columns=['target']), '')\n",
    "score_xgb"
   ],
   "metadata": {
    "collapsed": false,
    "ExecuteTime": {
     "end_time": "2024-07-05T14:10:26.065344Z",
     "start_time": "2024-07-05T14:10:26.037358Z"
    }
   },
   "id": "f32348cd88cceac3",
   "execution_count": 226
  },
  {
   "cell_type": "markdown",
   "source": [
    "## Submission"
   ],
   "metadata": {
    "collapsed": false
   },
   "id": "efc99b64e535d209"
  },
  {
   "cell_type": "code",
   "outputs": [],
   "source": [
    "# fit the standard scaler on the test data non categorical columns\n",
    "test_non_categorical_scaled = scaler.transform(df_test_non_categorical)\n",
    "test_non_categorical_scaled = pd.DataFrame(test_non_categorical_scaled, columns=df_test_non_categorical.columns)\n",
    "test_non_categorical_scaled.index = df_test_non_categorical.index\n",
    "\n",
    "# concate with the one hot encoded test data\n",
    "test_final = pd.concat([test_non_categorical_scaled, test_encoded], axis=1)\n",
    "\n",
    "# predict on the test data\n",
    "y_test_pred = lgb_model.predict_proba(test_final)[:,1]\n"
   ],
   "metadata": {
    "collapsed": false,
    "ExecuteTime": {
     "end_time": "2024-07-05T14:14:11.600335Z",
     "start_time": "2024-07-05T14:14:11.588863Z"
    }
   },
   "id": "9fd254fa60f56499",
   "execution_count": 228
  },
  {
   "cell_type": "code",
   "outputs": [
    {
     "data": {
      "text/plain": "        isic_id    target\n0  ISIC_0015657  0.265434\n1  ISIC_0015729  0.011572\n2  ISIC_0015740  0.328049",
      "text/html": "<div>\n<style scoped>\n    .dataframe tbody tr th:only-of-type {\n        vertical-align: middle;\n    }\n\n    .dataframe tbody tr th {\n        vertical-align: top;\n    }\n\n    .dataframe thead th {\n        text-align: right;\n    }\n</style>\n<table border=\"1\" class=\"dataframe\">\n  <thead>\n    <tr style=\"text-align: right;\">\n      <th></th>\n      <th>isic_id</th>\n      <th>target</th>\n    </tr>\n  </thead>\n  <tbody>\n    <tr>\n      <th>0</th>\n      <td>ISIC_0015657</td>\n      <td>0.265434</td>\n    </tr>\n    <tr>\n      <th>1</th>\n      <td>ISIC_0015729</td>\n      <td>0.011572</td>\n    </tr>\n    <tr>\n      <th>2</th>\n      <td>ISIC_0015740</td>\n      <td>0.328049</td>\n    </tr>\n  </tbody>\n</table>\n</div>"
     },
     "execution_count": 229,
     "metadata": {},
     "output_type": "execute_result"
    }
   ],
   "source": [
    "# show the data\n",
    "df_test_meta['target'] = y_test_pred\n",
    "\n",
    "df_test_meta[['isic_id','target']]"
   ],
   "metadata": {
    "collapsed": false,
    "ExecuteTime": {
     "end_time": "2024-07-05T14:14:34.049322Z",
     "start_time": "2024-07-05T14:14:34.041650Z"
    }
   },
   "id": "9d50e4599ca3320a",
   "execution_count": 229
  },
  {
   "cell_type": "code",
   "outputs": [],
   "source": [
    "# save the submission\n",
    "df_test_meta[['isic_id','target']].to_csv('submission.csv', index=False)"
   ],
   "metadata": {
    "collapsed": false,
    "ExecuteTime": {
     "end_time": "2024-07-05T14:21:16.280084Z",
     "start_time": "2024-07-05T14:21:16.270627Z"
    }
   },
   "id": "2d863fc0bd3f2787",
   "execution_count": 230
  },
  {
   "cell_type": "code",
   "outputs": [],
   "source": [],
   "metadata": {
    "collapsed": false
   },
   "id": "1d448ba00ad9f547"
  }
 ],
 "metadata": {
  "kernelspec": {
   "name": "ima-env",
   "language": "python",
   "display_name": "ima-env"
  },
  "language_info": {
   "codemirror_mode": {
    "name": "ipython",
    "version": 2
   },
   "file_extension": ".py",
   "mimetype": "text/x-python",
   "name": "python",
   "nbconvert_exporter": "python",
   "pygments_lexer": "ipython2",
   "version": "2.7.6"
  }
 },
 "nbformat": 4,
 "nbformat_minor": 5
}
